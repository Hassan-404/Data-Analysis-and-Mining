{
  "cells": [
    {
      "cell_type": "code",
      "execution_count": null,
      "metadata": {
        "id": "EMHuwzmR9Yx_"
      },
      "outputs": [],
      "source": [
        "# build by Hassan Murtaza\n",
        "import pandas as pd\n",
        "import numpy as np\n",
        "import matplotlib.pyplot as plt\n",
        "import seaborn as sns\n",
        "%matplotlib inline\n",
        "from sklearn.feature_selection import SelectKBest\n",
        "from sklearn.feature_selection import mutual_info_regression, mutual_info_classif"
      ]
    },
    {
      "cell_type": "code",
      "execution_count": null,
      "metadata": {
        "colab": {
          "base_uri": "https://localhost:8080/",
          "height": 55,
          "resources": {
            "http://localhost:8080/nbextensions/google.colab/files.js": {
              "data": "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",
              "headers": [
                [
                  "content-type",
                  "application/javascript"
                ]
              ],
              "ok": true,
              "status": 200,
              "status_text": ""
            }
          }
        },
        "id": "OG9ust3k9imr",
        "outputId": "876ec6e8-a36b-4238-dda0-edfedf1799d9"
      },
      "outputs": [
        {
          "output_type": "display_data",
          "data": {
            "text/html": [
              "\n",
              "     <input type=\"file\" id=\"files-2d29394f-a806-4076-9c3c-ef5f385cc20d\" name=\"files[]\" multiple disabled\n",
              "        style=\"border:none\" />\n",
              "     <output id=\"result-2d29394f-a806-4076-9c3c-ef5f385cc20d\">\n",
              "      Upload widget is only available when the cell has been executed in the\n",
              "      current browser session. Please rerun this cell to enable.\n",
              "      </output>\n",
              "      <script src=\"/nbextensions/google.colab/files.js\"></script> "
            ],
            "text/plain": [
              "<IPython.core.display.HTML object>"
            ]
          },
          "metadata": {}
        },
        {
          "output_type": "stream",
          "name": "stdout",
          "text": [
            "Saving Data2021.csv to Data2021.csv\n"
          ]
        }
      ],
      "source": [
        "from google.colab import files\n",
        "upload = files.upload()"
      ]
    },
    {
      "cell_type": "code",
      "execution_count": null,
      "metadata": {
        "id": "IdsopUVN9pGL"
      },
      "outputs": [],
      "source": [
        "df = pd.read_csv(\"Data2021.csv\")"
      ]
    },
    {
      "cell_type": "code",
      "execution_count": null,
      "metadata": {
        "colab": {
          "base_uri": "https://localhost:8080/"
        },
        "id": "TnZ-iFNS910W",
        "outputId": "4426def9-fab1-491f-e8d9-5e7ec46a716a"
      },
      "outputs": [
        {
          "output_type": "execute_result",
          "data": {
            "text/plain": [
              "Index(['Artist Name', 'Track Name', 'Popularity', 'danceability', 'energy',\n",
              "       'key', 'loudness', 'mode', 'speechiness', 'acousticness',\n",
              "       'instrumentalness', 'liveness', 'valence', 'tempo',\n",
              "       'duration_in min/ms', 'time_signature', 'Class'],\n",
              "      dtype='object')"
            ]
          },
          "metadata": {},
          "execution_count": 193
        }
      ],
      "source": [
        "df.columns"
      ]
    },
    {
      "cell_type": "code",
      "execution_count": null,
      "metadata": {
        "id": "CzG2OW9WAT6i"
      },
      "outputs": [],
      "source": [
        "df = df.dropna(how=\"any\")"
      ]
    },
    {
      "cell_type": "code",
      "execution_count": null,
      "metadata": {
        "id": "Gl_b5yzP9386"
      },
      "outputs": [],
      "source": [
        "X = df.drop([\"Class\",\"Artist Name\",\"Track Name\"], axis=1, inplace=False)\n",
        "y = df.loc[:,['Class']]"
      ]
    },
    {
      "cell_type": "code",
      "execution_count": null,
      "metadata": {
        "colab": {
          "base_uri": "https://localhost:8080/",
          "height": 268
        },
        "id": "SiDlKnA_-DZ3",
        "outputId": "a5f305b2-e0e3-4b77-c8f7-dd5e22773695"
      },
      "outputs": [
        {
          "output_type": "execute_result",
          "data": {
            "text/html": [
              "\n",
              "  <div id=\"df-fccff499-7b0d-4dd6-809e-d46043c44b22\">\n",
              "    <div class=\"colab-df-container\">\n",
              "      <div>\n",
              "<style scoped>\n",
              "    .dataframe tbody tr th:only-of-type {\n",
              "        vertical-align: middle;\n",
              "    }\n",
              "\n",
              "    .dataframe tbody tr th {\n",
              "        vertical-align: top;\n",
              "    }\n",
              "\n",
              "    .dataframe thead th {\n",
              "        text-align: right;\n",
              "    }\n",
              "</style>\n",
              "<table border=\"1\" class=\"dataframe\">\n",
              "  <thead>\n",
              "    <tr style=\"text-align: right;\">\n",
              "      <th></th>\n",
              "      <th>Popularity</th>\n",
              "      <th>danceability</th>\n",
              "      <th>energy</th>\n",
              "      <th>key</th>\n",
              "      <th>loudness</th>\n",
              "      <th>mode</th>\n",
              "      <th>speechiness</th>\n",
              "      <th>acousticness</th>\n",
              "      <th>instrumentalness</th>\n",
              "      <th>liveness</th>\n",
              "      <th>valence</th>\n",
              "      <th>tempo</th>\n",
              "      <th>duration_in min/ms</th>\n",
              "      <th>time_signature</th>\n",
              "    </tr>\n",
              "  </thead>\n",
              "  <tbody>\n",
              "    <tr>\n",
              "      <th>1</th>\n",
              "      <td>54.0</td>\n",
              "      <td>0.382</td>\n",
              "      <td>0.814</td>\n",
              "      <td>3.0</td>\n",
              "      <td>-7.230</td>\n",
              "      <td>1</td>\n",
              "      <td>0.0406</td>\n",
              "      <td>0.001100</td>\n",
              "      <td>0.004010</td>\n",
              "      <td>0.1010</td>\n",
              "      <td>0.5690</td>\n",
              "      <td>116.454</td>\n",
              "      <td>251733.0</td>\n",
              "      <td>4</td>\n",
              "    </tr>\n",
              "    <tr>\n",
              "      <th>2</th>\n",
              "      <td>35.0</td>\n",
              "      <td>0.434</td>\n",
              "      <td>0.614</td>\n",
              "      <td>6.0</td>\n",
              "      <td>-8.334</td>\n",
              "      <td>1</td>\n",
              "      <td>0.0525</td>\n",
              "      <td>0.486000</td>\n",
              "      <td>0.000196</td>\n",
              "      <td>0.3940</td>\n",
              "      <td>0.7870</td>\n",
              "      <td>147.681</td>\n",
              "      <td>109667.0</td>\n",
              "      <td>4</td>\n",
              "    </tr>\n",
              "    <tr>\n",
              "      <th>4</th>\n",
              "      <td>53.0</td>\n",
              "      <td>0.167</td>\n",
              "      <td>0.975</td>\n",
              "      <td>2.0</td>\n",
              "      <td>-4.279</td>\n",
              "      <td>1</td>\n",
              "      <td>0.2160</td>\n",
              "      <td>0.000169</td>\n",
              "      <td>0.016100</td>\n",
              "      <td>0.1720</td>\n",
              "      <td>0.0918</td>\n",
              "      <td>199.060</td>\n",
              "      <td>229960.0</td>\n",
              "      <td>4</td>\n",
              "    </tr>\n",
              "    <tr>\n",
              "      <th>5</th>\n",
              "      <td>53.0</td>\n",
              "      <td>0.235</td>\n",
              "      <td>0.977</td>\n",
              "      <td>6.0</td>\n",
              "      <td>0.878</td>\n",
              "      <td>1</td>\n",
              "      <td>0.1070</td>\n",
              "      <td>0.003530</td>\n",
              "      <td>0.006040</td>\n",
              "      <td>0.1720</td>\n",
              "      <td>0.2410</td>\n",
              "      <td>152.952</td>\n",
              "      <td>208133.0</td>\n",
              "      <td>4</td>\n",
              "    </tr>\n",
              "    <tr>\n",
              "      <th>6</th>\n",
              "      <td>48.0</td>\n",
              "      <td>0.674</td>\n",
              "      <td>0.658</td>\n",
              "      <td>5.0</td>\n",
              "      <td>-9.647</td>\n",
              "      <td>0</td>\n",
              "      <td>0.1040</td>\n",
              "      <td>0.404000</td>\n",
              "      <td>0.000001</td>\n",
              "      <td>0.0981</td>\n",
              "      <td>0.6770</td>\n",
              "      <td>143.292</td>\n",
              "      <td>329387.0</td>\n",
              "      <td>4</td>\n",
              "    </tr>\n",
              "  </tbody>\n",
              "</table>\n",
              "</div>\n",
              "      <button class=\"colab-df-convert\" onclick=\"convertToInteractive('df-fccff499-7b0d-4dd6-809e-d46043c44b22')\"\n",
              "              title=\"Convert this dataframe to an interactive table.\"\n",
              "              style=\"display:none;\">\n",
              "        \n",
              "  <svg xmlns=\"http://www.w3.org/2000/svg\" height=\"24px\"viewBox=\"0 0 24 24\"\n",
              "       width=\"24px\">\n",
              "    <path d=\"M0 0h24v24H0V0z\" fill=\"none\"/>\n",
              "    <path d=\"M18.56 5.44l.94 2.06.94-2.06 2.06-.94-2.06-.94-.94-2.06-.94 2.06-2.06.94zm-11 1L8.5 8.5l.94-2.06 2.06-.94-2.06-.94L8.5 2.5l-.94 2.06-2.06.94zm10 10l.94 2.06.94-2.06 2.06-.94-2.06-.94-.94-2.06-.94 2.06-2.06.94z\"/><path d=\"M17.41 7.96l-1.37-1.37c-.4-.4-.92-.59-1.43-.59-.52 0-1.04.2-1.43.59L10.3 9.45l-7.72 7.72c-.78.78-.78 2.05 0 2.83L4 21.41c.39.39.9.59 1.41.59.51 0 1.02-.2 1.41-.59l7.78-7.78 2.81-2.81c.8-.78.8-2.07 0-2.86zM5.41 20L4 18.59l7.72-7.72 1.47 1.35L5.41 20z\"/>\n",
              "  </svg>\n",
              "      </button>\n",
              "      \n",
              "  <style>\n",
              "    .colab-df-container {\n",
              "      display:flex;\n",
              "      flex-wrap:wrap;\n",
              "      gap: 12px;\n",
              "    }\n",
              "\n",
              "    .colab-df-convert {\n",
              "      background-color: #E8F0FE;\n",
              "      border: none;\n",
              "      border-radius: 50%;\n",
              "      cursor: pointer;\n",
              "      display: none;\n",
              "      fill: #1967D2;\n",
              "      height: 32px;\n",
              "      padding: 0 0 0 0;\n",
              "      width: 32px;\n",
              "    }\n",
              "\n",
              "    .colab-df-convert:hover {\n",
              "      background-color: #E2EBFA;\n",
              "      box-shadow: 0px 1px 2px rgba(60, 64, 67, 0.3), 0px 1px 3px 1px rgba(60, 64, 67, 0.15);\n",
              "      fill: #174EA6;\n",
              "    }\n",
              "\n",
              "    [theme=dark] .colab-df-convert {\n",
              "      background-color: #3B4455;\n",
              "      fill: #D2E3FC;\n",
              "    }\n",
              "\n",
              "    [theme=dark] .colab-df-convert:hover {\n",
              "      background-color: #434B5C;\n",
              "      box-shadow: 0px 1px 3px 1px rgba(0, 0, 0, 0.15);\n",
              "      filter: drop-shadow(0px 1px 2px rgba(0, 0, 0, 0.3));\n",
              "      fill: #FFFFFF;\n",
              "    }\n",
              "  </style>\n",
              "\n",
              "      <script>\n",
              "        const buttonEl =\n",
              "          document.querySelector('#df-fccff499-7b0d-4dd6-809e-d46043c44b22 button.colab-df-convert');\n",
              "        buttonEl.style.display =\n",
              "          google.colab.kernel.accessAllowed ? 'block' : 'none';\n",
              "\n",
              "        async function convertToInteractive(key) {\n",
              "          const element = document.querySelector('#df-fccff499-7b0d-4dd6-809e-d46043c44b22');\n",
              "          const dataTable =\n",
              "            await google.colab.kernel.invokeFunction('convertToInteractive',\n",
              "                                                     [key], {});\n",
              "          if (!dataTable) return;\n",
              "\n",
              "          const docLinkHtml = 'Like what you see? Visit the ' +\n",
              "            '<a target=\"_blank\" href=https://colab.research.google.com/notebooks/data_table.ipynb>data table notebook</a>'\n",
              "            + ' to learn more about interactive tables.';\n",
              "          element.innerHTML = '';\n",
              "          dataTable['output_type'] = 'display_data';\n",
              "          await google.colab.output.renderOutput(dataTable, element);\n",
              "          const docLink = document.createElement('div');\n",
              "          docLink.innerHTML = docLinkHtml;\n",
              "          element.appendChild(docLink);\n",
              "        }\n",
              "      </script>\n",
              "    </div>\n",
              "  </div>\n",
              "  "
            ],
            "text/plain": [
              "   Popularity  danceability  ...  duration_in min/ms  time_signature\n",
              "1        54.0         0.382  ...            251733.0               4\n",
              "2        35.0         0.434  ...            109667.0               4\n",
              "4        53.0         0.167  ...            229960.0               4\n",
              "5        53.0         0.235  ...            208133.0               4\n",
              "6        48.0         0.674  ...            329387.0               4\n",
              "\n",
              "[5 rows x 14 columns]"
            ]
          },
          "metadata": {},
          "execution_count": 7
        }
      ],
      "source": [
        "X.head()"
      ]
    },
    {
      "cell_type": "code",
      "execution_count": null,
      "metadata": {
        "colab": {
          "base_uri": "https://localhost:8080/"
        },
        "id": "P8cVnIEj-f_z",
        "outputId": "b0b251e6-f82a-4230-ad5e-ad2dd26bbb68"
      },
      "outputs": [
        {
          "output_type": "stream",
          "name": "stdout",
          "text": [
            "Number of unique Classes Class    11\n",
            "dtype: int64\n"
          ]
        }
      ],
      "source": [
        "print(\"Number of unique Classes\",y.nunique())"
      ]
    },
    {
      "cell_type": "code",
      "execution_count": null,
      "metadata": {
        "colab": {
          "base_uri": "https://localhost:8080/"
        },
        "id": "vQyir-I6-iNv",
        "outputId": "2aeeff8d-82f9-4196-ed96-7e44dee460aa"
      },
      "outputs": [
        {
          "output_type": "stream",
          "name": "stdout",
          "text": [
            " Dimensions of X (11813, 14)\n",
            " Dimwnsions of y (11813, 1)\n"
          ]
        }
      ],
      "source": [
        "assert X.shape[0] == y.shape[0]\n",
        "print(\" Dimensions of X\",X.shape)\n",
        "print(\" Dimwnsions of y\",y.shape)"
      ]
    },
    {
      "cell_type": "markdown",
      "source": [
        "Lets plot how many examples each class have."
      ],
      "metadata": {
        "id": "8c9C0rvMvonF"
      }
    },
    {
      "cell_type": "code",
      "execution_count": null,
      "metadata": {
        "id": "ah98bAS-BYcz",
        "colab": {
          "base_uri": "https://localhost:8080/",
          "height": 284
        },
        "outputId": "2f22a6fe-3049-43ce-e016-031b18fd2d95"
      },
      "outputs": [
        {
          "output_type": "execute_result",
          "data": {
            "text/plain": [
              "[<matplotlib.lines.Line2D at 0x7f1411a2f210>]"
            ]
          },
          "metadata": {},
          "execution_count": 198
        },
        {
          "output_type": "display_data",
          "data": {
            "image/png": "[encoded data removed]",
            "text/plain": [
              "<Figure size 432x288 with 1 Axes>"
            ]
          },
          "metadata": {
            "needs_background": "light"
          }
        }
      ],
      "source": [
        "plt.plot(df['Class'].value_counts())"
      ]
    },
    {
      "cell_type": "code",
      "execution_count": null,
      "metadata": {
        "colab": {
          "base_uri": "https://localhost:8080/"
        },
        "id": "aWhtGkhs_dsj",
        "outputId": "3e570a83-7a78-4d8b-82e1-f35023392e73"
      },
      "outputs": [
        {
          "output_type": "execute_result",
          "data": {
            "text/plain": [
              "10    3374\n",
              "6     2039\n",
              "8     1523\n",
              "9     1099\n",
              "1     1037\n",
              "2      956\n",
              "5      517\n",
              "7      464\n",
              "0      386\n",
              "3      270\n",
              "4      148\n",
              "Name: Class, dtype: int64"
            ]
          },
          "metadata": {},
          "execution_count": 199
        }
      ],
      "source": [
        "df['Class'].value_counts()"
      ]
    },
    {
      "cell_type": "code",
      "source": [
        "myLabels = df['Class'].value_counts().index\n",
        "fig, ax = plt.subplots(figsize =(10, 10))\n",
        "explod = (0.2,0,0,0,0,0,0,0,0,0,0)\n",
        "ax.pie(df['Class'].value_counts(), labels=myLabels, explode=explod, shadow=True)\n",
        "plt.title(\"Label Distribution\",bbox={'facecolor':'0.9', 'pad':5,})"
      ],
      "metadata": {
        "colab": {
          "base_uri": "https://localhost:8080/",
          "height": 608
        },
        "id": "7Ughq6sSzYJq",
        "outputId": "799b0c0d-b971-4713-de5d-bcb68a45053b"
      },
      "execution_count": null,
      "outputs": [
        {
          "output_type": "execute_result",
          "data": {
            "text/plain": [
              "Text(0.5, 1.0, 'Label Distribution')"
            ]
          },
          "metadata": {},
          "execution_count": 200
        },
        {
          "output_type": "display_data",
          "data": {
            "image/png": "[encoded data removed]",
            "text/plain": [
              "<Figure size 720x720 with 1 Axes>"
            ]
          },
          "metadata": {}
        }
      ]
    },
    {
      "cell_type": "markdown",
      "source": [
        "It can be seen that given dataset is imbalanced"
      ],
      "metadata": {
        "id": "LgnbcOGbI4mW"
      }
    },
    {
      "cell_type": "code",
      "source": [],
      "metadata": {
        "id": "xLyxsHq_caU2"
      },
      "execution_count": null,
      "outputs": []
    },
    {
      "cell_type": "markdown",
      "source": [
        "The solution to tackle this situation are given below.\n",
        " \n",
        "\n",
        "1.   smote(Synthetic Minority Oversampling Technique)\n",
        "2.   ensemble\n",
        "\n"
      ],
      "metadata": {
        "id": "hNq5QE8dRv4f"
      }
    },
    {
      "cell_type": "code",
      "source": [],
      "metadata": {
        "id": "UK93seILRusH"
      },
      "execution_count": null,
      "outputs": []
    },
    {
      "cell_type": "code",
      "execution_count": null,
      "metadata": {
        "colab": {
          "base_uri": "https://localhost:8080/",
          "height": 445
        },
        "id": "fKRUtRO3AKUZ",
        "outputId": "7650ee6a-2c2a-408e-c848-134f11edab84"
      },
      "outputs": [
        {
          "output_type": "stream",
          "name": "stderr",
          "text": [
            "/usr/local/lib/python3.7/dist-packages/sklearn/utils/validation.py:985: DataConversionWarning: A column-vector y was passed when a 1d array was expected. Please change the shape of y to (n_samples, ), for example using ravel().\n",
            "  y = column_or_1d(y, warn=True)\n",
            "/usr/local/lib/python3.7/dist-packages/sklearn/utils/validation.py:985: DataConversionWarning: A column-vector y was passed when a 1d array was expected. Please change the shape of y to (n_samples, ), for example using ravel().\n",
            "  y = column_or_1d(y, warn=True)\n"
          ]
        },
        {
          "output_type": "display_data",
          "data": {
            "image/png": "[encoded data removed]",
            "text/plain": [
              "<Figure size 720x288 with 1 Axes>"
            ]
          },
          "metadata": {
            "needs_background": "light"
          }
        }
      ],
      "source": [
        "mi = mutual_info_classif(X, y)\n",
        "mi = pd.Series(mi)\n",
        "mi.index = X.columns\n",
        "# mi.sort_values(ascending=False)\n",
        "mi.sort_values(ascending=False).plot.bar(figsize=(10, 4))\n",
        "\n",
        "# Select Best K columns\n",
        "# You can specify number of features you want\n",
        "feature_cols = SelectKBest(mutual_info_classif, k= 7).fit_transform(X, y)                                                                                                                                                                                                                                                                                                                                                                                                                                                                                                                                                                                                                                                                                                                                                                                                                                                                                                                                                                                                                                                                                                                                                                                                                                                                                                                                                                                                                                                                                                                                                                                                                                                                                                                                                                                                                                                                                                                                                                                                                                                                                                                                                                                                                                                                                                                                                                                                                                                                                                                                                                                                                                                                                                                                                                                                                                                                                                                                                                                                                                                                                                                                                                                                                                                                                                                                                                                                                                                                                                                                                                                                                                                                                                                                                                                                                                                                                                                                                                                                                                                                                                                                                                                                                                                                                                                                                                                                                                                                                                                                                                                                                                                                                                                                                                                                                                                                                                                                                                                                                                                                                                                                                                                                                                                                                                                                                                                        "
      ]
    },
    {
      "cell_type": "code",
      "source": [
        "# X_train = df[feature_cols]\n",
        "\n",
        "from sklearn.model_selection import train_test_split\n",
        "X_train, X_test, y_train, y_test = train_test_split(feature_cols, y ,random_state=3,test_size=0.2)\n",
        "\n",
        "print(X_train.shape, X_test.shape)\n"
      ],
      "metadata": {
        "colab": {
          "base_uri": "https://localhost:8080/"
        },
        "id": "lHUl7kbTX0FS",
        "outputId": "661826ff-0bea-4d39-b9e2-3b904cc5a799"
      },
      "execution_count": null,
      "outputs": [
        {
          "output_type": "stream",
          "name": "stdout",
          "text": [
            "(9450, 7) (2363, 7)\n"
          ]
        }
      ]
    },
    {
      "cell_type": "code",
      "source": [
        "# !pip install tensorflow_addons\n",
        "# from tensorflow_addons import losses\n",
        "import tensorflow as tf\n",
        "from tensorflow import keras\n",
        "from keras import layers \n",
        "from sklearn.metrics import confusion_matrix, classification_report\n",
        "from keras import regularizers\n",
        "from keras.regularizers import Regularizer"
      ],
      "metadata": {
        "id": "sc3TY-9Qlaq3"
      },
      "execution_count": null,
      "outputs": []
    },
    {
      "cell_type": "code",
      "execution_count": null,
      "metadata": {
        "id": "uNzn-7gpAtBm"
      },
      "outputs": [],
      "source": [
        "\n",
        "def model_creation(inputsize):\n",
        "  model1 = keras.Sequential()\n",
        "  model1.add(keras.layers.InputLayer(input_shape=(inputsize,)))\n",
        "  model1.add(layers.Dense(16, activation='relu'))\n",
        "  model1.add(layers.Dense(32, activation='relu'))\n",
        "  model1.add(layers.Dense(64, activation='relu'))\n",
        "  model1.add(layers.Dense(128, activation='relu'))\n",
        "  model1.add(layers.Dense(256, activation='relu'))\n",
        "  model1.add(layers.Dense(512, activation='relu'))\n",
        "  model1.add(layers.Dense(256, activation='relu'))\n",
        "  model1.add(layers.Dense(128, activation='relu'))\n",
        "  model1.add(layers.Dense(64, activation='relu'))\n",
        "  # kernel_regularizer=regularizers.L1(0.01), activity_regularizer=regularizers.L2(0.01)\n",
        "  model1.add(layers.Dense(32, activation='relu'))\n",
        "  model1.add(layers.Dense(16, activation='softmax'))\n",
        "  return model1\n",
        "\n",
        "#print(model1.summary())\n"
      ]
    },
    {
      "cell_type": "code",
      "source": [
        "#!pip install keras-tuner"
      ],
      "metadata": {
        "id": "KuAeu4p5reL9"
      },
      "execution_count": null,
      "outputs": []
    },
    {
      "cell_type": "code",
      "source": [
        "from sklearn.preprocessing import RobustScaler\n",
        "\n",
        "\n",
        "clf = RobustScaler()\n",
        "X_train = clf.fit_transform(X_train)\n",
        "X_test = clf.fit_transform(X_test)\n",
        "\n",
        "print(X_train.shape, X_test.shape)\n"
      ],
      "metadata": {
        "colab": {
          "base_uri": "https://localhost:8080/"
        },
        "id": "t_AXLbKSlozk",
        "outputId": "2d9c9147-802f-4e31-f207-fc56e40eb644"
      },
      "execution_count": null,
      "outputs": [
        {
          "output_type": "stream",
          "name": "stdout",
          "text": [
            "(9450, 7) (2363, 7)\n"
          ]
        }
      ]
    },
    {
      "cell_type": "code",
      "source": [
        "model1 = model_creation(X_train.shape[1])\n",
        "n_rows = X_train.shape[0]\n",
        "batchsize = 32 # 9450 / 90 =  105 batches\n",
        "epoch = 200"
      ],
      "metadata": {
        "id": "HBQAok0SK0-L"
      },
      "execution_count": null,
      "outputs": []
    },
    {
      "cell_type": "code",
      "source": [
        "\n",
        "model1.compile(\n",
        "    loss=keras.losses.SparseCategoricalCrossentropy(from_logits=True),\n",
        "    optimizer=keras.optimizers.Adam(learning_rate=0.00001),\n",
        "    metrics = ['accuracy']\n",
        ")\n",
        "\n",
        "\n",
        "history1 = model1.fit(X_train, y_train, batch_size=batchsize, epochs=epoch, verbose=2,validation_split=0.20)"
      ],
      "metadata": {
        "colab": {
          "base_uri": "https://localhost:8080/"
        },
        "id": "iCkWxI_ml2YA",
        "outputId": "7a367415-3023-4cf3-c72d-cf45e6801ab4"
      },
      "execution_count": null,
      "outputs": [
        {
          "output_type": "stream",
          "name": "stdout",
          "text": [
            "Epoch 1/200\n"
          ]
        },
        {
          "output_type": "stream",
          "name": "stderr",
          "text": [
            "/usr/local/lib/python3.7/dist-packages/tensorflow/python/util/dispatch.py:1096: UserWarning: \"`sparse_categorical_crossentropy` received `from_logits=True`, but the `output` argument was produced by a sigmoid or softmax activation and thus does not represent logits. Was this intended?\"\n",
            "  return dispatch_target(*args, **kwargs)\n",
            "/usr/local/lib/python3.7/dist-packages/tensorflow/python/util/dispatch.py:1096: UserWarning: \"`sparse_categorical_crossentropy` received `from_logits=True`, but the `output` argument was produced by a sigmoid or softmax activation and thus does not represent logits. Was this intended?\"\n",
            "  return dispatch_target(*args, **kwargs)\n"
          ]
        },
        {
          "output_type": "stream",
          "name": "stdout",
          "text": [
            "237/237 - 5s - loss: 2.7247 - accuracy: 0.1672 - val_loss: 2.6614 - val_accuracy: 0.1757 - 5s/epoch - 20ms/step\n",
            "Epoch 2/200\n",
            "237/237 - 2s - loss: 2.5526 - accuracy: 0.1771 - val_loss: 2.4180 - val_accuracy: 0.2905 - 2s/epoch - 9ms/step\n",
            "Epoch 3/200\n",
            "237/237 - 2s - loss: 2.3274 - accuracy: 0.2966 - val_loss: 2.2389 - val_accuracy: 0.2905 - 2s/epoch - 10ms/step\n",
            "Epoch 4/200\n",
            "237/237 - 2s - loss: 2.1769 - accuracy: 0.2955 - val_loss: 2.1249 - val_accuracy: 0.2926 - 2s/epoch - 9ms/step\n",
            "Epoch 5/200\n",
            "237/237 - 2s - loss: 2.0785 - accuracy: 0.2978 - val_loss: 2.0443 - val_accuracy: 0.2915 - 2s/epoch - 9ms/step\n",
            "Epoch 6/200\n",
            "237/237 - 2s - loss: 2.0027 - accuracy: 0.3001 - val_loss: 1.9760 - val_accuracy: 0.2989 - 2s/epoch - 8ms/step\n",
            "Epoch 7/200\n",
            "237/237 - 2s - loss: 1.9392 - accuracy: 0.3118 - val_loss: 1.9180 - val_accuracy: 0.3058 - 2s/epoch - 8ms/step\n",
            "Epoch 8/200\n",
            "237/237 - 2s - loss: 1.8847 - accuracy: 0.3180 - val_loss: 1.8649 - val_accuracy: 0.3201 - 2s/epoch - 9ms/step\n",
            "Epoch 9/200\n",
            "237/237 - 2s - loss: 1.8348 - accuracy: 0.3407 - val_loss: 1.8213 - val_accuracy: 0.3492 - 2s/epoch - 9ms/step\n",
            "Epoch 10/200\n",
            "237/237 - 2s - loss: 1.7918 - accuracy: 0.3549 - val_loss: 1.7827 - val_accuracy: 0.3646 - 2s/epoch - 9ms/step\n",
            "Epoch 11/200\n",
            "237/237 - 2s - loss: 1.7563 - accuracy: 0.3665 - val_loss: 1.7479 - val_accuracy: 0.3704 - 2s/epoch - 9ms/step\n",
            "Epoch 12/200\n",
            "237/237 - 2s - loss: 1.7264 - accuracy: 0.3720 - val_loss: 1.7232 - val_accuracy: 0.3783 - 2s/epoch - 9ms/step\n",
            "Epoch 13/200\n",
            "237/237 - 2s - loss: 1.7013 - accuracy: 0.3804 - val_loss: 1.7011 - val_accuracy: 0.3735 - 2s/epoch - 9ms/step\n",
            "Epoch 14/200\n",
            "237/237 - 2s - loss: 1.6816 - accuracy: 0.3802 - val_loss: 1.6859 - val_accuracy: 0.3757 - 2s/epoch - 10ms/step\n",
            "Epoch 15/200\n",
            "237/237 - 2s - loss: 1.6634 - accuracy: 0.3876 - val_loss: 1.6713 - val_accuracy: 0.3836 - 2s/epoch - 10ms/step\n",
            "Epoch 16/200\n",
            "237/237 - 2s - loss: 1.6471 - accuracy: 0.3934 - val_loss: 1.6506 - val_accuracy: 0.3852 - 2s/epoch - 9ms/step\n",
            "Epoch 17/200\n",
            "237/237 - 2s - loss: 1.6337 - accuracy: 0.4003 - val_loss: 1.6380 - val_accuracy: 0.3989 - 2s/epoch - 9ms/step\n",
            "Epoch 18/200\n",
            "237/237 - 2s - loss: 1.6217 - accuracy: 0.4065 - val_loss: 1.6315 - val_accuracy: 0.3942 - 2s/epoch - 9ms/step\n",
            "Epoch 19/200\n",
            "237/237 - 2s - loss: 1.6101 - accuracy: 0.4126 - val_loss: 1.6227 - val_accuracy: 0.3947 - 2s/epoch - 9ms/step\n",
            "Epoch 20/200\n",
            "237/237 - 2s - loss: 1.5995 - accuracy: 0.4183 - val_loss: 1.6154 - val_accuracy: 0.3952 - 2s/epoch - 10ms/step\n",
            "Epoch 21/200\n",
            "237/237 - 2s - loss: 1.5907 - accuracy: 0.4172 - val_loss: 1.6043 - val_accuracy: 0.4005 - 2s/epoch - 9ms/step\n",
            "Epoch 22/200\n",
            "237/237 - 2s - loss: 1.5824 - accuracy: 0.4172 - val_loss: 1.5974 - val_accuracy: 0.4058 - 2s/epoch - 10ms/step\n",
            "Epoch 23/200\n",
            "237/237 - 2s - loss: 1.5737 - accuracy: 0.4201 - val_loss: 1.5892 - val_accuracy: 0.4032 - 2s/epoch - 8ms/step\n",
            "Epoch 24/200\n",
            "237/237 - 2s - loss: 1.5661 - accuracy: 0.4206 - val_loss: 1.5847 - val_accuracy: 0.4069 - 2s/epoch - 9ms/step\n",
            "Epoch 25/200\n",
            "237/237 - 2s - loss: 1.5587 - accuracy: 0.4229 - val_loss: 1.5762 - val_accuracy: 0.4085 - 2s/epoch - 9ms/step\n",
            "Epoch 26/200\n",
            "237/237 - 2s - loss: 1.5514 - accuracy: 0.4257 - val_loss: 1.5799 - val_accuracy: 0.4000 - 2s/epoch - 8ms/step\n",
            "Epoch 27/200\n",
            "237/237 - 2s - loss: 1.5454 - accuracy: 0.4290 - val_loss: 1.5672 - val_accuracy: 0.4101 - 2s/epoch - 9ms/step\n",
            "Epoch 28/200\n",
            "237/237 - 2s - loss: 1.5378 - accuracy: 0.4300 - val_loss: 1.5670 - val_accuracy: 0.4053 - 2s/epoch - 9ms/step\n",
            "Epoch 29/200\n",
            "237/237 - 2s - loss: 1.5335 - accuracy: 0.4336 - val_loss: 1.5578 - val_accuracy: 0.4069 - 2s/epoch - 9ms/step\n",
            "Epoch 30/200\n",
            "237/237 - 2s - loss: 1.5281 - accuracy: 0.4319 - val_loss: 1.5593 - val_accuracy: 0.4090 - 2s/epoch - 9ms/step\n",
            "Epoch 31/200\n",
            "237/237 - 2s - loss: 1.5223 - accuracy: 0.4331 - val_loss: 1.5505 - val_accuracy: 0.4169 - 2s/epoch - 9ms/step\n",
            "Epoch 32/200\n",
            "237/237 - 2s - loss: 1.5179 - accuracy: 0.4324 - val_loss: 1.5481 - val_accuracy: 0.4127 - 2s/epoch - 10ms/step\n",
            "Epoch 33/200\n",
            "237/237 - 2s - loss: 1.5121 - accuracy: 0.4332 - val_loss: 1.5443 - val_accuracy: 0.4111 - 2s/epoch - 9ms/step\n",
            "Epoch 34/200\n",
            "237/237 - 2s - loss: 1.5082 - accuracy: 0.4329 - val_loss: 1.5398 - val_accuracy: 0.4148 - 2s/epoch - 9ms/step\n",
            "Epoch 35/200\n",
            "237/237 - 2s - loss: 1.5039 - accuracy: 0.4354 - val_loss: 1.5397 - val_accuracy: 0.4159 - 2s/epoch - 9ms/step\n",
            "Epoch 36/200\n",
            "237/237 - 2s - loss: 1.4998 - accuracy: 0.4353 - val_loss: 1.5302 - val_accuracy: 0.4185 - 2s/epoch - 9ms/step\n",
            "Epoch 37/200\n",
            "237/237 - 2s - loss: 1.4960 - accuracy: 0.4356 - val_loss: 1.5310 - val_accuracy: 0.4175 - 2s/epoch - 9ms/step\n",
            "Epoch 38/200\n",
            "237/237 - 2s - loss: 1.4924 - accuracy: 0.4407 - val_loss: 1.5277 - val_accuracy: 0.4180 - 2s/epoch - 9ms/step\n",
            "Epoch 39/200\n",
            "237/237 - 2s - loss: 1.4888 - accuracy: 0.4407 - val_loss: 1.5204 - val_accuracy: 0.4164 - 2s/epoch - 10ms/step\n",
            "Epoch 40/200\n",
            "237/237 - 2s - loss: 1.4852 - accuracy: 0.4433 - val_loss: 1.5257 - val_accuracy: 0.4143 - 2s/epoch - 9ms/step\n",
            "Epoch 41/200\n",
            "237/237 - 2s - loss: 1.4834 - accuracy: 0.4411 - val_loss: 1.5189 - val_accuracy: 0.4127 - 2s/epoch - 10ms/step\n",
            "Epoch 42/200\n",
            "237/237 - 3s - loss: 1.4804 - accuracy: 0.4402 - val_loss: 1.5171 - val_accuracy: 0.4138 - 3s/epoch - 11ms/step\n",
            "Epoch 43/200\n",
            "237/237 - 2s - loss: 1.4775 - accuracy: 0.4413 - val_loss: 1.5132 - val_accuracy: 0.4148 - 2s/epoch - 10ms/step\n",
            "Epoch 44/200\n",
            "237/237 - 2s - loss: 1.4747 - accuracy: 0.4414 - val_loss: 1.5188 - val_accuracy: 0.4196 - 2s/epoch - 9ms/step\n",
            "Epoch 45/200\n",
            "237/237 - 2s - loss: 1.4719 - accuracy: 0.4431 - val_loss: 1.5143 - val_accuracy: 0.4138 - 2s/epoch - 10ms/step\n",
            "Epoch 46/200\n",
            "237/237 - 2s - loss: 1.4694 - accuracy: 0.4464 - val_loss: 1.5104 - val_accuracy: 0.4143 - 2s/epoch - 9ms/step\n",
            "Epoch 47/200\n",
            "237/237 - 2s - loss: 1.4661 - accuracy: 0.4435 - val_loss: 1.5057 - val_accuracy: 0.4206 - 2s/epoch - 9ms/step\n",
            "Epoch 48/200\n",
            "237/237 - 2s - loss: 1.4637 - accuracy: 0.4481 - val_loss: 1.5052 - val_accuracy: 0.4175 - 2s/epoch - 9ms/step\n",
            "Epoch 49/200\n",
            "237/237 - 2s - loss: 1.4610 - accuracy: 0.4480 - val_loss: 1.5082 - val_accuracy: 0.4159 - 2s/epoch - 10ms/step\n",
            "Epoch 50/200\n",
            "237/237 - 2s - loss: 1.4592 - accuracy: 0.4472 - val_loss: 1.5159 - val_accuracy: 0.4153 - 2s/epoch - 10ms/step\n",
            "Epoch 51/200\n",
            "237/237 - 2s - loss: 1.4588 - accuracy: 0.4451 - val_loss: 1.5007 - val_accuracy: 0.4196 - 2s/epoch - 9ms/step\n",
            "Epoch 52/200\n",
            "237/237 - 2s - loss: 1.4556 - accuracy: 0.4448 - val_loss: 1.5006 - val_accuracy: 0.4153 - 2s/epoch - 8ms/step\n",
            "Epoch 53/200\n",
            "237/237 - 2s - loss: 1.4537 - accuracy: 0.4474 - val_loss: 1.5029 - val_accuracy: 0.4180 - 2s/epoch - 9ms/step\n",
            "Epoch 54/200\n",
            "237/237 - 2s - loss: 1.4508 - accuracy: 0.4501 - val_loss: 1.4979 - val_accuracy: 0.4212 - 2s/epoch - 9ms/step\n",
            "Epoch 55/200\n",
            "237/237 - 2s - loss: 1.4489 - accuracy: 0.4474 - val_loss: 1.5123 - val_accuracy: 0.4058 - 2s/epoch - 10ms/step\n",
            "Epoch 56/200\n",
            "237/237 - 2s - loss: 1.4478 - accuracy: 0.4480 - val_loss: 1.4962 - val_accuracy: 0.4185 - 2s/epoch - 9ms/step\n",
            "Epoch 57/200\n",
            "237/237 - 2s - loss: 1.4463 - accuracy: 0.4468 - val_loss: 1.4979 - val_accuracy: 0.4196 - 2s/epoch - 10ms/step\n",
            "Epoch 58/200\n",
            "237/237 - 2s - loss: 1.4439 - accuracy: 0.4501 - val_loss: 1.4991 - val_accuracy: 0.4169 - 2s/epoch - 9ms/step\n",
            "Epoch 59/200\n",
            "237/237 - 2s - loss: 1.4431 - accuracy: 0.4483 - val_loss: 1.4987 - val_accuracy: 0.4159 - 2s/epoch - 9ms/step\n",
            "Epoch 60/200\n",
            "237/237 - 2s - loss: 1.4417 - accuracy: 0.4515 - val_loss: 1.4892 - val_accuracy: 0.4217 - 2s/epoch - 9ms/step\n",
            "Epoch 61/200\n",
            "237/237 - 2s - loss: 1.4395 - accuracy: 0.4503 - val_loss: 1.4902 - val_accuracy: 0.4238 - 2s/epoch - 9ms/step\n",
            "Epoch 62/200\n",
            "237/237 - 2s - loss: 1.4393 - accuracy: 0.4503 - val_loss: 1.4882 - val_accuracy: 0.4249 - 2s/epoch - 9ms/step\n",
            "Epoch 63/200\n",
            "237/237 - 2s - loss: 1.4376 - accuracy: 0.4500 - val_loss: 1.4882 - val_accuracy: 0.4243 - 2s/epoch - 9ms/step\n",
            "Epoch 64/200\n",
            "237/237 - 2s - loss: 1.4354 - accuracy: 0.4537 - val_loss: 1.4875 - val_accuracy: 0.4212 - 2s/epoch - 9ms/step\n",
            "Epoch 65/200\n",
            "237/237 - 2s - loss: 1.4352 - accuracy: 0.4550 - val_loss: 1.4857 - val_accuracy: 0.4190 - 2s/epoch - 9ms/step\n",
            "Epoch 66/200\n",
            "237/237 - 2s - loss: 1.4325 - accuracy: 0.4521 - val_loss: 1.4847 - val_accuracy: 0.4228 - 2s/epoch - 8ms/step\n",
            "Epoch 67/200\n",
            "237/237 - 2s - loss: 1.4322 - accuracy: 0.4536 - val_loss: 1.4842 - val_accuracy: 0.4259 - 2s/epoch - 8ms/step\n",
            "Epoch 68/200\n",
            "237/237 - 2s - loss: 1.4304 - accuracy: 0.4536 - val_loss: 1.4883 - val_accuracy: 0.4238 - 2s/epoch - 9ms/step\n",
            "Epoch 69/200\n",
            "237/237 - 2s - loss: 1.4292 - accuracy: 0.4552 - val_loss: 1.4830 - val_accuracy: 0.4222 - 2s/epoch - 10ms/step\n",
            "Epoch 70/200\n",
            "237/237 - 2s - loss: 1.4278 - accuracy: 0.4565 - val_loss: 1.4827 - val_accuracy: 0.4228 - 2s/epoch - 10ms/step\n",
            "Epoch 71/200\n",
            "237/237 - 2s - loss: 1.4270 - accuracy: 0.4562 - val_loss: 1.4845 - val_accuracy: 0.4217 - 2s/epoch - 9ms/step\n",
            "Epoch 72/200\n",
            "237/237 - 2s - loss: 1.4255 - accuracy: 0.4536 - val_loss: 1.4812 - val_accuracy: 0.4206 - 2s/epoch - 9ms/step\n",
            "Epoch 73/200\n",
            "237/237 - 2s - loss: 1.4250 - accuracy: 0.4549 - val_loss: 1.4827 - val_accuracy: 0.4296 - 2s/epoch - 8ms/step\n",
            "Epoch 74/200\n",
            "237/237 - 2s - loss: 1.4228 - accuracy: 0.4593 - val_loss: 1.4788 - val_accuracy: 0.4265 - 2s/epoch - 9ms/step\n",
            "Epoch 75/200\n",
            "237/237 - 2s - loss: 1.4224 - accuracy: 0.4562 - val_loss: 1.4793 - val_accuracy: 0.4280 - 2s/epoch - 9ms/step\n",
            "Epoch 76/200\n",
            "237/237 - 2s - loss: 1.4215 - accuracy: 0.4538 - val_loss: 1.4778 - val_accuracy: 0.4307 - 2s/epoch - 9ms/step\n",
            "Epoch 77/200\n",
            "237/237 - 2s - loss: 1.4206 - accuracy: 0.4549 - val_loss: 1.4889 - val_accuracy: 0.4175 - 2s/epoch - 10ms/step\n",
            "Epoch 78/200\n",
            "237/237 - 2s - loss: 1.4190 - accuracy: 0.4589 - val_loss: 1.4747 - val_accuracy: 0.4296 - 2s/epoch - 9ms/step\n",
            "Epoch 79/200\n",
            "237/237 - 2s - loss: 1.4191 - accuracy: 0.4545 - val_loss: 1.4814 - val_accuracy: 0.4228 - 2s/epoch - 9ms/step\n",
            "Epoch 80/200\n",
            "237/237 - 2s - loss: 1.4169 - accuracy: 0.4579 - val_loss: 1.4776 - val_accuracy: 0.4233 - 2s/epoch - 9ms/step\n",
            "Epoch 81/200\n",
            "237/237 - 2s - loss: 1.4162 - accuracy: 0.4570 - val_loss: 1.4834 - val_accuracy: 0.4159 - 2s/epoch - 10ms/step\n",
            "Epoch 82/200\n",
            "237/237 - 2s - loss: 1.4160 - accuracy: 0.4561 - val_loss: 1.4763 - val_accuracy: 0.4291 - 2s/epoch - 9ms/step\n",
            "Epoch 83/200\n",
            "237/237 - 2s - loss: 1.4141 - accuracy: 0.4585 - val_loss: 1.4752 - val_accuracy: 0.4270 - 2s/epoch - 9ms/step\n",
            "Epoch 84/200\n",
            "237/237 - 2s - loss: 1.4134 - accuracy: 0.4597 - val_loss: 1.4863 - val_accuracy: 0.4254 - 2s/epoch - 9ms/step\n",
            "Epoch 85/200\n",
            "237/237 - 2s - loss: 1.4117 - accuracy: 0.4579 - val_loss: 1.4772 - val_accuracy: 0.4296 - 2s/epoch - 9ms/step\n",
            "Epoch 86/200\n",
            "237/237 - 2s - loss: 1.4119 - accuracy: 0.4587 - val_loss: 1.4720 - val_accuracy: 0.4307 - 2s/epoch - 8ms/step\n",
            "Epoch 87/200\n",
            "237/237 - 2s - loss: 1.4115 - accuracy: 0.4574 - val_loss: 1.4739 - val_accuracy: 0.4259 - 2s/epoch - 9ms/step\n",
            "Epoch 88/200\n",
            "237/237 - 2s - loss: 1.4094 - accuracy: 0.4587 - val_loss: 1.4728 - val_accuracy: 0.4243 - 2s/epoch - 9ms/step\n",
            "Epoch 89/200\n",
            "237/237 - 2s - loss: 1.4096 - accuracy: 0.4614 - val_loss: 1.4721 - val_accuracy: 0.4307 - 2s/epoch - 9ms/step\n",
            "Epoch 90/200\n",
            "237/237 - 2s - loss: 1.4081 - accuracy: 0.4607 - val_loss: 1.4703 - val_accuracy: 0.4280 - 2s/epoch - 9ms/step\n",
            "Epoch 91/200\n",
            "237/237 - 2s - loss: 1.4080 - accuracy: 0.4586 - val_loss: 1.4727 - val_accuracy: 0.4259 - 2s/epoch - 9ms/step\n",
            "Epoch 92/200\n",
            "237/237 - 2s - loss: 1.4069 - accuracy: 0.4597 - val_loss: 1.4759 - val_accuracy: 0.4254 - 2s/epoch - 9ms/step\n",
            "Epoch 93/200\n",
            "237/237 - 2s - loss: 1.4059 - accuracy: 0.4624 - val_loss: 1.4723 - val_accuracy: 0.4249 - 2s/epoch - 10ms/step\n",
            "Epoch 94/200\n",
            "237/237 - 2s - loss: 1.4046 - accuracy: 0.4635 - val_loss: 1.4774 - val_accuracy: 0.4222 - 2s/epoch - 9ms/step\n",
            "Epoch 95/200\n",
            "237/237 - 2s - loss: 1.4040 - accuracy: 0.4618 - val_loss: 1.4673 - val_accuracy: 0.4302 - 2s/epoch - 10ms/step\n",
            "Epoch 96/200\n",
            "237/237 - 2s - loss: 1.4032 - accuracy: 0.4589 - val_loss: 1.4668 - val_accuracy: 0.4270 - 2s/epoch - 9ms/step\n",
            "Epoch 97/200\n",
            "237/237 - 2s - loss: 1.4027 - accuracy: 0.4619 - val_loss: 1.4763 - val_accuracy: 0.4206 - 2s/epoch - 9ms/step\n",
            "Epoch 98/200\n",
            "237/237 - 2s - loss: 1.4032 - accuracy: 0.4638 - val_loss: 1.4691 - val_accuracy: 0.4286 - 2s/epoch - 9ms/step\n",
            "Epoch 99/200\n",
            "237/237 - 2s - loss: 1.4008 - accuracy: 0.4620 - val_loss: 1.4699 - val_accuracy: 0.4317 - 2s/epoch - 9ms/step\n",
            "Epoch 100/200\n",
            "237/237 - 2s - loss: 1.4014 - accuracy: 0.4612 - val_loss: 1.4688 - val_accuracy: 0.4328 - 2s/epoch - 8ms/step\n",
            "Epoch 101/200\n",
            "237/237 - 2s - loss: 1.3995 - accuracy: 0.4636 - val_loss: 1.4723 - val_accuracy: 0.4233 - 2s/epoch - 8ms/step\n",
            "Epoch 102/200\n",
            "237/237 - 2s - loss: 1.3984 - accuracy: 0.4635 - val_loss: 1.4675 - val_accuracy: 0.4333 - 2s/epoch - 9ms/step\n",
            "Epoch 103/200\n",
            "237/237 - 2s - loss: 1.3980 - accuracy: 0.4608 - val_loss: 1.4719 - val_accuracy: 0.4206 - 2s/epoch - 8ms/step\n",
            "Epoch 104/200\n",
            "237/237 - 2s - loss: 1.3970 - accuracy: 0.4659 - val_loss: 1.4780 - val_accuracy: 0.4196 - 2s/epoch - 9ms/step\n",
            "Epoch 105/200\n",
            "237/237 - 2s - loss: 1.3976 - accuracy: 0.4635 - val_loss: 1.4699 - val_accuracy: 0.4296 - 2s/epoch - 9ms/step\n",
            "Epoch 106/200\n",
            "237/237 - 2s - loss: 1.3966 - accuracy: 0.4632 - val_loss: 1.4710 - val_accuracy: 0.4238 - 2s/epoch - 9ms/step\n",
            "Epoch 107/200\n",
            "237/237 - 2s - loss: 1.3948 - accuracy: 0.4632 - val_loss: 1.4665 - val_accuracy: 0.4307 - 2s/epoch - 8ms/step\n",
            "Epoch 108/200\n",
            "237/237 - 2s - loss: 1.3948 - accuracy: 0.4626 - val_loss: 1.4710 - val_accuracy: 0.4222 - 2s/epoch - 9ms/step\n",
            "Epoch 109/200\n",
            "237/237 - 2s - loss: 1.3949 - accuracy: 0.4646 - val_loss: 1.4738 - val_accuracy: 0.4228 - 2s/epoch - 9ms/step\n",
            "Epoch 110/200\n",
            "237/237 - 2s - loss: 1.3940 - accuracy: 0.4626 - val_loss: 1.4627 - val_accuracy: 0.4275 - 2s/epoch - 9ms/step\n",
            "Epoch 111/200\n",
            "237/237 - 2s - loss: 1.3926 - accuracy: 0.4636 - val_loss: 1.4646 - val_accuracy: 0.4238 - 2s/epoch - 10ms/step\n",
            "Epoch 112/200\n",
            "237/237 - 2s - loss: 1.3912 - accuracy: 0.4647 - val_loss: 1.4638 - val_accuracy: 0.4286 - 2s/epoch - 10ms/step\n",
            "Epoch 113/200\n",
            "237/237 - 2s - loss: 1.3908 - accuracy: 0.4652 - val_loss: 1.4682 - val_accuracy: 0.4286 - 2s/epoch - 9ms/step\n",
            "Epoch 114/200\n",
            "237/237 - 2s - loss: 1.3905 - accuracy: 0.4660 - val_loss: 1.4681 - val_accuracy: 0.4212 - 2s/epoch - 9ms/step\n",
            "Epoch 115/200\n",
            "237/237 - 2s - loss: 1.3897 - accuracy: 0.4655 - val_loss: 1.4628 - val_accuracy: 0.4312 - 2s/epoch - 9ms/step\n",
            "Epoch 116/200\n",
            "237/237 - 2s - loss: 1.3892 - accuracy: 0.4638 - val_loss: 1.4640 - val_accuracy: 0.4296 - 2s/epoch - 8ms/step\n",
            "Epoch 117/200\n",
            "237/237 - 2s - loss: 1.3885 - accuracy: 0.4632 - val_loss: 1.4632 - val_accuracy: 0.4323 - 2s/epoch - 8ms/step\n",
            "Epoch 118/200\n",
            "237/237 - 2s - loss: 1.3886 - accuracy: 0.4647 - val_loss: 1.4597 - val_accuracy: 0.4376 - 2s/epoch - 9ms/step\n",
            "Epoch 119/200\n",
            "237/237 - 2s - loss: 1.3873 - accuracy: 0.4653 - val_loss: 1.4583 - val_accuracy: 0.4291 - 2s/epoch - 9ms/step\n",
            "Epoch 120/200\n",
            "237/237 - 2s - loss: 1.3863 - accuracy: 0.4680 - val_loss: 1.4676 - val_accuracy: 0.4228 - 2s/epoch - 9ms/step\n",
            "Epoch 121/200\n",
            "237/237 - 2s - loss: 1.3857 - accuracy: 0.4649 - val_loss: 1.4626 - val_accuracy: 0.4370 - 2s/epoch - 8ms/step\n",
            "Epoch 122/200\n",
            "237/237 - 2s - loss: 1.3855 - accuracy: 0.4632 - val_loss: 1.4662 - val_accuracy: 0.4376 - 2s/epoch - 8ms/step\n",
            "Epoch 123/200\n",
            "237/237 - 2s - loss: 1.3848 - accuracy: 0.4692 - val_loss: 1.4699 - val_accuracy: 0.4312 - 2s/epoch - 9ms/step\n",
            "Epoch 124/200\n",
            "237/237 - 2s - loss: 1.3847 - accuracy: 0.4664 - val_loss: 1.4572 - val_accuracy: 0.4354 - 2s/epoch - 9ms/step\n",
            "Epoch 125/200\n",
            "237/237 - 2s - loss: 1.3828 - accuracy: 0.4687 - val_loss: 1.4650 - val_accuracy: 0.4206 - 2s/epoch - 10ms/step\n",
            "Epoch 126/200\n",
            "237/237 - 2s - loss: 1.3831 - accuracy: 0.4669 - val_loss: 1.4563 - val_accuracy: 0.4307 - 2s/epoch - 10ms/step\n",
            "Epoch 127/200\n",
            "237/237 - 2s - loss: 1.3822 - accuracy: 0.4649 - val_loss: 1.4561 - val_accuracy: 0.4333 - 2s/epoch - 9ms/step\n",
            "Epoch 128/200\n",
            "237/237 - 2s - loss: 1.3827 - accuracy: 0.4685 - val_loss: 1.4584 - val_accuracy: 0.4339 - 2s/epoch - 9ms/step\n",
            "Epoch 129/200\n",
            "237/237 - 2s - loss: 1.3813 - accuracy: 0.4679 - val_loss: 1.4613 - val_accuracy: 0.4312 - 2s/epoch - 8ms/step\n",
            "Epoch 130/200\n",
            "237/237 - 2s - loss: 1.3797 - accuracy: 0.4683 - val_loss: 1.4642 - val_accuracy: 0.4212 - 2s/epoch - 9ms/step\n",
            "Epoch 131/200\n",
            "237/237 - 2s - loss: 1.3798 - accuracy: 0.4676 - val_loss: 1.4558 - val_accuracy: 0.4286 - 2s/epoch - 9ms/step\n",
            "Epoch 132/200\n",
            "237/237 - 2s - loss: 1.3798 - accuracy: 0.4657 - val_loss: 1.4650 - val_accuracy: 0.4228 - 2s/epoch - 9ms/step\n",
            "Epoch 133/200\n",
            "237/237 - 2s - loss: 1.3788 - accuracy: 0.4676 - val_loss: 1.4667 - val_accuracy: 0.4259 - 2s/epoch - 9ms/step\n",
            "Epoch 134/200\n",
            "237/237 - 2s - loss: 1.3783 - accuracy: 0.4661 - val_loss: 1.4686 - val_accuracy: 0.4185 - 2s/epoch - 9ms/step\n",
            "Epoch 135/200\n",
            "237/237 - 2s - loss: 1.3787 - accuracy: 0.4663 - val_loss: 1.4571 - val_accuracy: 0.4376 - 2s/epoch - 8ms/step\n",
            "Epoch 136/200\n",
            "237/237 - 2s - loss: 1.3786 - accuracy: 0.4700 - val_loss: 1.4653 - val_accuracy: 0.4233 - 2s/epoch - 9ms/step\n",
            "Epoch 137/200\n",
            "237/237 - 2s - loss: 1.3773 - accuracy: 0.4694 - val_loss: 1.4565 - val_accuracy: 0.4397 - 2s/epoch - 9ms/step\n",
            "Epoch 138/200\n",
            "237/237 - 2s - loss: 1.3763 - accuracy: 0.4717 - val_loss: 1.4574 - val_accuracy: 0.4286 - 2s/epoch - 10ms/step\n",
            "Epoch 139/200\n",
            "237/237 - 2s - loss: 1.3766 - accuracy: 0.4706 - val_loss: 1.4543 - val_accuracy: 0.4317 - 2s/epoch - 10ms/step\n",
            "Epoch 140/200\n",
            "237/237 - 2s - loss: 1.3762 - accuracy: 0.4676 - val_loss: 1.4534 - val_accuracy: 0.4386 - 2s/epoch - 10ms/step\n",
            "Epoch 141/200\n",
            "237/237 - 2s - loss: 1.3760 - accuracy: 0.4690 - val_loss: 1.4552 - val_accuracy: 0.4392 - 2s/epoch - 9ms/step\n",
            "Epoch 142/200\n",
            "237/237 - 2s - loss: 1.3747 - accuracy: 0.4713 - val_loss: 1.4536 - val_accuracy: 0.4376 - 2s/epoch - 9ms/step\n",
            "Epoch 143/200\n",
            "237/237 - 2s - loss: 1.3743 - accuracy: 0.4693 - val_loss: 1.4534 - val_accuracy: 0.4360 - 2s/epoch - 9ms/step\n",
            "Epoch 144/200\n",
            "237/237 - 2s - loss: 1.3732 - accuracy: 0.4689 - val_loss: 1.4669 - val_accuracy: 0.4228 - 2s/epoch - 10ms/step\n",
            "Epoch 145/200\n",
            "237/237 - 2s - loss: 1.3737 - accuracy: 0.4688 - val_loss: 1.4596 - val_accuracy: 0.4291 - 2s/epoch - 9ms/step\n",
            "Epoch 146/200\n",
            "237/237 - 2s - loss: 1.3730 - accuracy: 0.4734 - val_loss: 1.4526 - val_accuracy: 0.4333 - 2s/epoch - 9ms/step\n",
            "Epoch 147/200\n",
            "237/237 - 2s - loss: 1.3727 - accuracy: 0.4702 - val_loss: 1.4555 - val_accuracy: 0.4344 - 2s/epoch - 9ms/step\n",
            "Epoch 148/200\n",
            "237/237 - 2s - loss: 1.3728 - accuracy: 0.4696 - val_loss: 1.4552 - val_accuracy: 0.4270 - 2s/epoch - 9ms/step\n",
            "Epoch 149/200\n",
            "237/237 - 2s - loss: 1.3707 - accuracy: 0.4689 - val_loss: 1.4559 - val_accuracy: 0.4376 - 2s/epoch - 9ms/step\n",
            "Epoch 150/200\n",
            "237/237 - 2s - loss: 1.3693 - accuracy: 0.4692 - val_loss: 1.4617 - val_accuracy: 0.4333 - 2s/epoch - 8ms/step\n",
            "Epoch 151/200\n",
            "237/237 - 2s - loss: 1.3702 - accuracy: 0.4685 - val_loss: 1.4605 - val_accuracy: 0.4323 - 2s/epoch - 9ms/step\n",
            "Epoch 152/200\n",
            "237/237 - 2s - loss: 1.3702 - accuracy: 0.4684 - val_loss: 1.4570 - val_accuracy: 0.4323 - 2s/epoch - 9ms/step\n",
            "Epoch 153/200\n",
            "237/237 - 2s - loss: 1.3693 - accuracy: 0.4697 - val_loss: 1.4631 - val_accuracy: 0.4233 - 2s/epoch - 10ms/step\n",
            "Epoch 154/200\n",
            "237/237 - 2s - loss: 1.3685 - accuracy: 0.4731 - val_loss: 1.4661 - val_accuracy: 0.4233 - 2s/epoch - 10ms/step\n",
            "Epoch 155/200\n",
            "237/237 - 2s - loss: 1.3697 - accuracy: 0.4680 - val_loss: 1.4585 - val_accuracy: 0.4333 - 2s/epoch - 9ms/step\n",
            "Epoch 156/200\n",
            "237/237 - 2s - loss: 1.3692 - accuracy: 0.4683 - val_loss: 1.4592 - val_accuracy: 0.4328 - 2s/epoch - 9ms/step\n",
            "Epoch 157/200\n",
            "237/237 - 2s - loss: 1.3688 - accuracy: 0.4701 - val_loss: 1.4535 - val_accuracy: 0.4392 - 2s/epoch - 9ms/step\n",
            "Epoch 158/200\n",
            "237/237 - 2s - loss: 1.3684 - accuracy: 0.4712 - val_loss: 1.4510 - val_accuracy: 0.4339 - 2s/epoch - 9ms/step\n",
            "Epoch 159/200\n",
            "237/237 - 2s - loss: 1.3663 - accuracy: 0.4700 - val_loss: 1.4546 - val_accuracy: 0.4354 - 2s/epoch - 10ms/step\n",
            "Epoch 160/200\n",
            "237/237 - 2s - loss: 1.3662 - accuracy: 0.4722 - val_loss: 1.4563 - val_accuracy: 0.4328 - 2s/epoch - 9ms/step\n",
            "Epoch 161/200\n",
            "237/237 - 2s - loss: 1.3671 - accuracy: 0.4709 - val_loss: 1.4525 - val_accuracy: 0.4275 - 2s/epoch - 9ms/step\n",
            "Epoch 162/200\n",
            "237/237 - 2s - loss: 1.3649 - accuracy: 0.4687 - val_loss: 1.4583 - val_accuracy: 0.4344 - 2s/epoch - 10ms/step\n",
            "Epoch 163/200\n",
            "237/237 - 2s - loss: 1.3666 - accuracy: 0.4704 - val_loss: 1.4491 - val_accuracy: 0.4349 - 2s/epoch - 10ms/step\n",
            "Epoch 164/200\n",
            "237/237 - 2s - loss: 1.3646 - accuracy: 0.4696 - val_loss: 1.4549 - val_accuracy: 0.4317 - 2s/epoch - 9ms/step\n",
            "Epoch 165/200\n",
            "237/237 - 2s - loss: 1.3641 - accuracy: 0.4701 - val_loss: 1.4529 - val_accuracy: 0.4339 - 2s/epoch - 9ms/step\n",
            "Epoch 166/200\n",
            "237/237 - 2s - loss: 1.3637 - accuracy: 0.4693 - val_loss: 1.4500 - val_accuracy: 0.4312 - 2s/epoch - 10ms/step\n",
            "Epoch 167/200\n",
            "237/237 - 2s - loss: 1.3630 - accuracy: 0.4734 - val_loss: 1.4563 - val_accuracy: 0.4365 - 2s/epoch - 9ms/step\n",
            "Epoch 168/200\n",
            "237/237 - 2s - loss: 1.3627 - accuracy: 0.4733 - val_loss: 1.4565 - val_accuracy: 0.4307 - 2s/epoch - 10ms/step\n",
            "Epoch 169/200\n",
            "237/237 - 2s - loss: 1.3633 - accuracy: 0.4696 - val_loss: 1.4571 - val_accuracy: 0.4349 - 2s/epoch - 10ms/step\n",
            "Epoch 170/200\n",
            "237/237 - 2s - loss: 1.3631 - accuracy: 0.4726 - val_loss: 1.4498 - val_accuracy: 0.4349 - 2s/epoch - 10ms/step\n",
            "Epoch 171/200\n",
            "237/237 - 2s - loss: 1.3615 - accuracy: 0.4705 - val_loss: 1.4485 - val_accuracy: 0.4344 - 2s/epoch - 10ms/step\n",
            "Epoch 172/200\n",
            "237/237 - 2s - loss: 1.3609 - accuracy: 0.4724 - val_loss: 1.4524 - val_accuracy: 0.4376 - 2s/epoch - 10ms/step\n",
            "Epoch 173/200\n",
            "237/237 - 2s - loss: 1.3614 - accuracy: 0.4733 - val_loss: 1.4491 - val_accuracy: 0.4381 - 2s/epoch - 9ms/step\n",
            "Epoch 174/200\n",
            "237/237 - 2s - loss: 1.3609 - accuracy: 0.4761 - val_loss: 1.4511 - val_accuracy: 0.4307 - 2s/epoch - 9ms/step\n",
            "Epoch 175/200\n",
            "237/237 - 2s - loss: 1.3609 - accuracy: 0.4746 - val_loss: 1.4509 - val_accuracy: 0.4344 - 2s/epoch - 9ms/step\n",
            "Epoch 176/200\n",
            "237/237 - 2s - loss: 1.3597 - accuracy: 0.4749 - val_loss: 1.4526 - val_accuracy: 0.4354 - 2s/epoch - 8ms/step\n",
            "Epoch 177/200\n",
            "237/237 - 2s - loss: 1.3596 - accuracy: 0.4737 - val_loss: 1.4521 - val_accuracy: 0.4376 - 2s/epoch - 9ms/step\n",
            "Epoch 178/200\n",
            "237/237 - 2s - loss: 1.3601 - accuracy: 0.4724 - val_loss: 1.4496 - val_accuracy: 0.4349 - 2s/epoch - 9ms/step\n",
            "Epoch 179/200\n",
            "237/237 - 2s - loss: 1.3593 - accuracy: 0.4716 - val_loss: 1.4493 - val_accuracy: 0.4344 - 2s/epoch - 9ms/step\n",
            "Epoch 180/200\n",
            "237/237 - 2s - loss: 1.3596 - accuracy: 0.4738 - val_loss: 1.4560 - val_accuracy: 0.4344 - 2s/epoch - 10ms/step\n",
            "Epoch 181/200\n",
            "237/237 - 3s - loss: 1.3580 - accuracy: 0.4734 - val_loss: 1.4508 - val_accuracy: 0.4376 - 3s/epoch - 11ms/step\n",
            "Epoch 182/200\n",
            "237/237 - 2s - loss: 1.3591 - accuracy: 0.4709 - val_loss: 1.4498 - val_accuracy: 0.4333 - 2s/epoch - 10ms/step\n",
            "Epoch 183/200\n",
            "237/237 - 2s - loss: 1.3575 - accuracy: 0.4742 - val_loss: 1.4510 - val_accuracy: 0.4407 - 2s/epoch - 9ms/step\n",
            "Epoch 184/200\n",
            "237/237 - 2s - loss: 1.3562 - accuracy: 0.4738 - val_loss: 1.4550 - val_accuracy: 0.4312 - 2s/epoch - 9ms/step\n",
            "Epoch 185/200\n",
            "237/237 - 2s - loss: 1.3572 - accuracy: 0.4734 - val_loss: 1.4498 - val_accuracy: 0.4397 - 2s/epoch - 10ms/step\n",
            "Epoch 186/200\n",
            "237/237 - 2s - loss: 1.3559 - accuracy: 0.4738 - val_loss: 1.4509 - val_accuracy: 0.4423 - 2s/epoch - 10ms/step\n",
            "Epoch 187/200\n",
            "237/237 - 3s - loss: 1.3561 - accuracy: 0.4755 - val_loss: 1.4593 - val_accuracy: 0.4233 - 3s/epoch - 11ms/step\n",
            "Epoch 188/200\n",
            "237/237 - 3s - loss: 1.3565 - accuracy: 0.4745 - val_loss: 1.4593 - val_accuracy: 0.4249 - 3s/epoch - 11ms/step\n",
            "Epoch 189/200\n",
            "237/237 - 2s - loss: 1.3541 - accuracy: 0.4765 - val_loss: 1.4488 - val_accuracy: 0.4407 - 2s/epoch - 10ms/step\n",
            "Epoch 190/200\n",
            "237/237 - 2s - loss: 1.3546 - accuracy: 0.4746 - val_loss: 1.4522 - val_accuracy: 0.4370 - 2s/epoch - 9ms/step\n",
            "Epoch 191/200\n",
            "237/237 - 2s - loss: 1.3540 - accuracy: 0.4746 - val_loss: 1.4466 - val_accuracy: 0.4317 - 2s/epoch - 10ms/step\n",
            "Epoch 192/200\n",
            "237/237 - 2s - loss: 1.3542 - accuracy: 0.4750 - val_loss: 1.4522 - val_accuracy: 0.4280 - 2s/epoch - 10ms/step\n",
            "Epoch 193/200\n",
            "237/237 - 2s - loss: 1.3536 - accuracy: 0.4738 - val_loss: 1.4488 - val_accuracy: 0.4407 - 2s/epoch - 10ms/step\n",
            "Epoch 194/200\n",
            "237/237 - 2s - loss: 1.3541 - accuracy: 0.4742 - val_loss: 1.4507 - val_accuracy: 0.4323 - 2s/epoch - 10ms/step\n",
            "Epoch 195/200\n",
            "237/237 - 2s - loss: 1.3530 - accuracy: 0.4775 - val_loss: 1.4485 - val_accuracy: 0.4397 - 2s/epoch - 9ms/step\n",
            "Epoch 196/200\n",
            "237/237 - 2s - loss: 1.3546 - accuracy: 0.4750 - val_loss: 1.4508 - val_accuracy: 0.4333 - 2s/epoch - 10ms/step\n",
            "Epoch 197/200\n",
            "237/237 - 2s - loss: 1.3538 - accuracy: 0.4762 - val_loss: 1.4471 - val_accuracy: 0.4439 - 2s/epoch - 9ms/step\n",
            "Epoch 198/200\n",
            "237/237 - 2s - loss: 1.3530 - accuracy: 0.4791 - val_loss: 1.4527 - val_accuracy: 0.4312 - 2s/epoch - 10ms/step\n",
            "Epoch 199/200\n",
            "237/237 - 2s - loss: 1.3512 - accuracy: 0.4758 - val_loss: 1.4457 - val_accuracy: 0.4429 - 2s/epoch - 10ms/step\n",
            "Epoch 200/200\n",
            "237/237 - 2s - loss: 1.3513 - accuracy: 0.4769 - val_loss: 1.4568 - val_accuracy: 0.4243 - 2s/epoch - 9ms/step\n"
          ]
        }
      ]
    },
    {
      "cell_type": "code",
      "source": [
        "def plot_metric(history, metric):\n",
        "    train_metrics = history.history[metric]\n",
        "    val_metrics = history.history['val_'+metric]\n",
        "    epochs = range(1, len(train_metrics) + 1)\n",
        "    plt.plot(epochs, train_metrics)\n",
        "    plt.plot(epochs, val_metrics)\n",
        "    plt.title('Training and validation '+ metric)\n",
        "    plt.xlabel(\"Epochs\")\n",
        "    plt.ylabel(metric)\n",
        "    plt.legend([\"train_\"+metric, 'val_'+metric])\n",
        "    plt.show()"
      ],
      "metadata": {
        "id": "za0_5yztCvP0"
      },
      "execution_count": null,
      "outputs": []
    },
    {
      "cell_type": "code",
      "source": [
        "plot_metric(history1 , 'loss')"
      ],
      "metadata": {
        "colab": {
          "base_uri": "https://localhost:8080/",
          "height": 295
        },
        "id": "fLmRP2FBKCEL",
        "outputId": "d5e09262-ed22-4366-c1a8-3d08a706050b"
      },
      "execution_count": null,
      "outputs": [
        {
          "output_type": "display_data",
          "data": {
            "image/png": "[encoded data removed]",
            "text/plain": [
              "<Figure size 432x288 with 1 Axes>"
            ]
          },
          "metadata": {
            "needs_background": "light"
          }
        }
      ]
    },
    {
      "cell_type": "code",
      "source": [
        "plot_metric(history1, 'accuracy')"
      ],
      "metadata": {
        "colab": {
          "base_uri": "https://localhost:8080/",
          "height": 295
        },
        "id": "8PkXI80gJ8bz",
        "outputId": "52064fb2-3c13-4663-d861-6728df104df9"
      },
      "execution_count": null,
      "outputs": [
        {
          "output_type": "display_data",
          "data": {
            "image/png": "[encoded data removed]",
            "text/plain": [
              "<Figure size 432x288 with 1 Axes>"
            ]
          },
          "metadata": {
            "needs_background": "light"
          }
        }
      ]
    },
    {
      "cell_type": "code",
      "source": [
        "print(model1.evaluate(X_test, y_test, batch_size=32, verbose=2))\n",
        "y_pred = model1.predict(X_test)\n",
        "y_preds = np.round(y_pred)\n",
        "print(X_test.shape)\n",
        "#print(\"Classification Report: \\n\", classification_report(y_test, y_preds))"
      ],
      "metadata": {
        "colab": {
          "base_uri": "https://localhost:8080/"
        },
        "id": "ik_5QY2otQr3",
        "outputId": "f8be3ccd-e9c3-411f-a3c3-80cd5ee1d770"
      },
      "execution_count": null,
      "outputs": [
        {
          "output_type": "stream",
          "name": "stdout",
          "text": [
            "74/74 - 0s - loss: 1.4349 - accuracy: 0.4490 - 311ms/epoch - 4ms/step\n",
            "[1.4348565340042114, 0.44900551438331604]\n",
            "(2363, 7)\n"
          ]
        }
      ]
    },
    {
      "cell_type": "code",
      "source": [
        "from imblearn.over_sampling import SMOTE\n",
        "from sklearn.preprocessing import LabelEncoder\n",
        "from collections import Counter\n",
        "from sklearn.model_selection import train_test_split\n",
        "X_train,X_test, y_train, y_test = train_test_split(X,y,random_state=3,test_size=0.2)\n",
        "clf = RobustScaler()\n",
        "X_train = clf.fit_transform(X_train)\n",
        "X_test = clf.fit_transform(X_test)\n",
        "y_train = LabelEncoder().fit_transform(y_train)\n",
        "oversample = SMOTE()\n",
        "X_train, y_train = oversample.fit_resample(X_train, y_train)\n",
        "counter = Counter(y_train)\n",
        "for k,v in counter.items():\n",
        "\tper = v / len(y) * 100\n",
        "\tprint('Class=%d, n=%d (%.3f%%)' % (k, v, per))\n",
        "plt.bar(counter.keys(), counter.values())\n",
        "plt.show()"
      ],
      "metadata": {
        "colab": {
          "base_uri": "https://localhost:8080/",
          "height": 511
        },
        "id": "Gj6jHU8jw-4Q",
        "outputId": "57817d6d-2b73-4502-d5ec-d396fc872659"
      },
      "execution_count": null,
      "outputs": [
        {
          "output_type": "stream",
          "name": "stderr",
          "text": [
            "/usr/local/lib/python3.7/dist-packages/sklearn/preprocessing/_label.py:115: DataConversionWarning: A column-vector y was passed when a 1d array was expected. Please change the shape of y to (n_samples, ), for example using ravel().\n",
            "  y = column_or_1d(y, warn=True)\n"
          ]
        },
        {
          "output_type": "stream",
          "name": "stdout",
          "text": [
            "Class=0, n=2698 (22.839%)\n",
            "Class=10, n=2698 (22.839%)\n",
            "Class=2, n=2698 (22.839%)\n",
            "Class=6, n=2698 (22.839%)\n",
            "Class=8, n=2698 (22.839%)\n",
            "Class=7, n=2698 (22.839%)\n",
            "Class=9, n=2698 (22.839%)\n",
            "Class=4, n=2698 (22.839%)\n",
            "Class=5, n=2698 (22.839%)\n",
            "Class=1, n=2698 (22.839%)\n",
            "Class=3, n=2698 (22.839%)\n"
          ]
        },
        {
          "output_type": "display_data",
          "data": {
            "image/png": "[encoded data removed]",
            "text/plain": [
              "<Figure size 432x288 with 1 Axes>"
            ]
          },
          "metadata": {
            "needs_background": "light"
          }
        }
      ]
    },
    {
      "cell_type": "code",
      "source": [
        "model2 = model_creation(X_train.shape[1])\n",
        "print(model2.summary())"
      ],
      "metadata": {
        "colab": {
          "base_uri": "https://localhost:8080/"
        },
        "id": "wm-dD9YQdZec",
        "outputId": "8559957f-100d-4f37-cc7c-b001dff38960"
      },
      "execution_count": null,
      "outputs": [
        {
          "output_type": "stream",
          "name": "stdout",
          "text": [
            "Model: \"sequential_27\"\n",
            "_________________________________________________________________\n",
            " Layer (type)                Output Shape              Param #   \n",
            "=================================================================\n",
            " dense_152 (Dense)           (None, 16)                240       \n",
            "                                                                 \n",
            " dense_153 (Dense)           (None, 32)                544       \n",
            "                                                                 \n",
            " dense_154 (Dense)           (None, 64)                2112      \n",
            "                                                                 \n",
            " dense_155 (Dense)           (None, 128)               8320      \n",
            "                                                                 \n",
            " dense_156 (Dense)           (None, 256)               33024     \n",
            "                                                                 \n",
            " dense_157 (Dense)           (None, 512)               131584    \n",
            "                                                                 \n",
            " dense_158 (Dense)           (None, 256)               131328    \n",
            "                                                                 \n",
            " dense_159 (Dense)           (None, 128)               32896     \n",
            "                                                                 \n",
            " dense_160 (Dense)           (None, 64)                8256      \n",
            "                                                                 \n",
            " dense_161 (Dense)           (None, 32)                2080      \n",
            "                                                                 \n",
            " dense_162 (Dense)           (None, 16)                528       \n",
            "                                                                 \n",
            "=================================================================\n",
            "Total params: 350,912\n",
            "Trainable params: 350,912\n",
            "Non-trainable params: 0\n",
            "_________________________________________________________________\n",
            "None\n"
          ]
        }
      ]
    },
    {
      "cell_type": "code",
      "source": [
        "model2.compile(\n",
        "    loss=keras.losses.SparseCategoricalCrossentropy(from_logits=True),\n",
        "    optimizer=keras.optimizers.Adam(learning_rate=0.00001),\n",
        "    metrics = ['accuracy']\n",
        ")\n",
        "\n",
        "\n",
        "history2 = model2.fit(X_train, y_train, batch_size=batchsize, epochs=epoch, verbose=2,validation_split=0.20)"
      ],
      "metadata": {
        "colab": {
          "base_uri": "https://localhost:8080/"
        },
        "id": "an3jIV9Pd0CO",
        "outputId": "c3bdef3b-51b2-414b-c63c-252f5e52e379"
      },
      "execution_count": null,
      "outputs": [
        {
          "output_type": "stream",
          "name": "stdout",
          "text": [
            "Epoch 1/200\n"
          ]
        },
        {
          "output_type": "stream",
          "name": "stderr",
          "text": [
            "/usr/local/lib/python3.7/dist-packages/tensorflow/python/util/dispatch.py:1096: UserWarning: \"`sparse_categorical_crossentropy` received `from_logits=True`, but the `output` argument was produced by a sigmoid or softmax activation and thus does not represent logits. Was this intended?\"\n",
            "  return dispatch_target(*args, **kwargs)\n"
          ]
        },
        {
          "output_type": "stream",
          "name": "stdout",
          "text": [
            "742/742 - 12s - loss: 2.6404 - accuracy: 0.1865 - val_loss: 3.3145 - val_accuracy: 0.0000e+00 - 12s/epoch - 16ms/step\n",
            "Epoch 2/200\n",
            "742/742 - 12s - loss: 2.0662 - accuracy: 0.3056 - val_loss: 4.0594 - val_accuracy: 5.0539e-04 - 12s/epoch - 16ms/step\n",
            "Epoch 3/200\n",
            "742/742 - 11s - loss: 1.8147 - accuracy: 0.3875 - val_loss: 3.6805 - val_accuracy: 0.0126 - 11s/epoch - 15ms/step\n",
            "Epoch 4/200\n",
            "742/742 - 7s - loss: 1.6630 - accuracy: 0.4161 - val_loss: 3.3048 - val_accuracy: 0.0197 - 7s/epoch - 9ms/step\n",
            "Epoch 5/200\n",
            "742/742 - 7s - loss: 1.5534 - accuracy: 0.4360 - val_loss: 2.7918 - val_accuracy: 0.0569 - 7s/epoch - 9ms/step\n",
            "Epoch 6/200\n",
            "742/742 - 7s - loss: 1.4713 - accuracy: 0.4516 - val_loss: 2.4598 - val_accuracy: 0.1413 - 7s/epoch - 9ms/step\n",
            "Epoch 7/200\n",
            "742/742 - 6s - loss: 1.4124 - accuracy: 0.4729 - val_loss: 2.1551 - val_accuracy: 0.3386 - 6s/epoch - 9ms/step\n",
            "Epoch 8/200\n",
            "742/742 - 7s - loss: 1.3712 - accuracy: 0.4860 - val_loss: 2.0244 - val_accuracy: 0.3652 - 7s/epoch - 10ms/step\n",
            "Epoch 9/200\n",
            "742/742 - 7s - loss: 1.3410 - accuracy: 0.4940 - val_loss: 1.9608 - val_accuracy: 0.3797 - 7s/epoch - 9ms/step\n",
            "Epoch 10/200\n",
            "742/742 - 7s - loss: 1.3188 - accuracy: 0.5005 - val_loss: 1.8289 - val_accuracy: 0.3858 - 7s/epoch - 9ms/step\n",
            "Epoch 11/200\n",
            "742/742 - 7s - loss: 1.3003 - accuracy: 0.5061 - val_loss: 1.8275 - val_accuracy: 0.3822 - 7s/epoch - 9ms/step\n",
            "Epoch 12/200\n",
            "742/742 - 7s - loss: 1.2845 - accuracy: 0.5130 - val_loss: 1.8089 - val_accuracy: 0.3912 - 7s/epoch - 9ms/step\n",
            "Epoch 13/200\n",
            "742/742 - 6s - loss: 1.2715 - accuracy: 0.5162 - val_loss: 1.7490 - val_accuracy: 0.4036 - 6s/epoch - 9ms/step\n",
            "Epoch 14/200\n",
            "742/742 - 7s - loss: 1.2592 - accuracy: 0.5207 - val_loss: 1.7319 - val_accuracy: 0.4040 - 7s/epoch - 9ms/step\n",
            "Epoch 15/200\n",
            "742/742 - 7s - loss: 1.2485 - accuracy: 0.5257 - val_loss: 1.7091 - val_accuracy: 0.4264 - 7s/epoch - 9ms/step\n",
            "Epoch 16/200\n",
            "742/742 - 6s - loss: 1.2388 - accuracy: 0.5282 - val_loss: 1.7208 - val_accuracy: 0.4009 - 6s/epoch - 9ms/step\n",
            "Epoch 17/200\n",
            "742/742 - 7s - loss: 1.2299 - accuracy: 0.5313 - val_loss: 1.7778 - val_accuracy: 0.3986 - 7s/epoch - 9ms/step\n",
            "Epoch 18/200\n",
            "742/742 - 7s - loss: 1.2208 - accuracy: 0.5334 - val_loss: 1.7384 - val_accuracy: 0.4043 - 7s/epoch - 10ms/step\n",
            "Epoch 19/200\n",
            "742/742 - 7s - loss: 1.2133 - accuracy: 0.5369 - val_loss: 1.6346 - val_accuracy: 0.4196 - 7s/epoch - 9ms/step\n",
            "Epoch 20/200\n",
            "742/742 - 7s - loss: 1.2055 - accuracy: 0.5409 - val_loss: 1.6244 - val_accuracy: 0.4276 - 7s/epoch - 9ms/step\n",
            "Epoch 21/200\n",
            "742/742 - 6s - loss: 1.1979 - accuracy: 0.5425 - val_loss: 1.6295 - val_accuracy: 0.4188 - 6s/epoch - 9ms/step\n",
            "Epoch 22/200\n",
            "742/742 - 6s - loss: 1.1909 - accuracy: 0.5445 - val_loss: 1.6121 - val_accuracy: 0.4186 - 6s/epoch - 9ms/step\n",
            "Epoch 23/200\n",
            "742/742 - 7s - loss: 1.1838 - accuracy: 0.5508 - val_loss: 1.7135 - val_accuracy: 0.4090 - 7s/epoch - 9ms/step\n",
            "Epoch 24/200\n",
            "742/742 - 7s - loss: 1.1774 - accuracy: 0.5497 - val_loss: 1.5226 - val_accuracy: 0.4405 - 7s/epoch - 9ms/step\n",
            "Epoch 25/200\n",
            "742/742 - 9s - loss: 1.1711 - accuracy: 0.5546 - val_loss: 1.6142 - val_accuracy: 0.4249 - 9s/epoch - 12ms/step\n",
            "Epoch 26/200\n",
            "742/742 - 8s - loss: 1.1642 - accuracy: 0.5565 - val_loss: 1.5463 - val_accuracy: 0.4449 - 8s/epoch - 11ms/step\n",
            "Epoch 27/200\n",
            "742/742 - 6s - loss: 1.1590 - accuracy: 0.5572 - val_loss: 1.6489 - val_accuracy: 0.4159 - 6s/epoch - 8ms/step\n",
            "Epoch 28/200\n",
            "742/742 - 6s - loss: 1.1531 - accuracy: 0.5598 - val_loss: 1.5286 - val_accuracy: 0.4394 - 6s/epoch - 7ms/step\n",
            "Epoch 29/200\n",
            "742/742 - 6s - loss: 1.1475 - accuracy: 0.5616 - val_loss: 1.5509 - val_accuracy: 0.4422 - 6s/epoch - 8ms/step\n",
            "Epoch 30/200\n",
            "742/742 - 5s - loss: 1.1427 - accuracy: 0.5635 - val_loss: 1.6137 - val_accuracy: 0.4153 - 5s/epoch - 7ms/step\n",
            "Epoch 31/200\n",
            "742/742 - 6s - loss: 1.1379 - accuracy: 0.5674 - val_loss: 1.5880 - val_accuracy: 0.4240 - 6s/epoch - 8ms/step\n",
            "Epoch 32/200\n",
            "742/742 - 6s - loss: 1.1321 - accuracy: 0.5683 - val_loss: 1.5011 - val_accuracy: 0.4488 - 6s/epoch - 8ms/step\n",
            "Epoch 33/200\n",
            "742/742 - 6s - loss: 1.1271 - accuracy: 0.5692 - val_loss: 1.5186 - val_accuracy: 0.4299 - 6s/epoch - 8ms/step\n",
            "Epoch 34/200\n",
            "742/742 - 6s - loss: 1.1218 - accuracy: 0.5700 - val_loss: 1.5572 - val_accuracy: 0.4303 - 6s/epoch - 8ms/step\n",
            "Epoch 35/200\n",
            "742/742 - 6s - loss: 1.1178 - accuracy: 0.5733 - val_loss: 1.5019 - val_accuracy: 0.4441 - 6s/epoch - 8ms/step\n",
            "Epoch 36/200\n",
            "742/742 - 6s - loss: 1.1130 - accuracy: 0.5740 - val_loss: 1.5385 - val_accuracy: 0.4341 - 6s/epoch - 8ms/step\n",
            "Epoch 37/200\n",
            "742/742 - 6s - loss: 1.1090 - accuracy: 0.5775 - val_loss: 1.5040 - val_accuracy: 0.4404 - 6s/epoch - 8ms/step\n",
            "Epoch 38/200\n",
            "742/742 - 6s - loss: 1.1045 - accuracy: 0.5778 - val_loss: 1.4870 - val_accuracy: 0.4427 - 6s/epoch - 8ms/step\n",
            "Epoch 39/200\n",
            "742/742 - 6s - loss: 1.1004 - accuracy: 0.5801 - val_loss: 1.5068 - val_accuracy: 0.4486 - 6s/epoch - 8ms/step\n",
            "Epoch 40/200\n",
            "742/742 - 6s - loss: 1.0959 - accuracy: 0.5822 - val_loss: 1.4226 - val_accuracy: 0.4555 - 6s/epoch - 8ms/step\n",
            "Epoch 41/200\n",
            "742/742 - 6s - loss: 1.0927 - accuracy: 0.5804 - val_loss: 1.4364 - val_accuracy: 0.4513 - 6s/epoch - 8ms/step\n",
            "Epoch 42/200\n",
            "742/742 - 6s - loss: 1.0883 - accuracy: 0.5855 - val_loss: 1.5043 - val_accuracy: 0.4511 - 6s/epoch - 8ms/step\n",
            "Epoch 43/200\n",
            "742/742 - 6s - loss: 1.0851 - accuracy: 0.5847 - val_loss: 1.4724 - val_accuracy: 0.4468 - 6s/epoch - 8ms/step\n",
            "Epoch 44/200\n",
            "742/742 - 6s - loss: 1.0811 - accuracy: 0.5855 - val_loss: 1.4978 - val_accuracy: 0.4289 - 6s/epoch - 8ms/step\n",
            "Epoch 45/200\n",
            "742/742 - 6s - loss: 1.0780 - accuracy: 0.5882 - val_loss: 1.4800 - val_accuracy: 0.4503 - 6s/epoch - 8ms/step\n",
            "Epoch 46/200\n",
            "742/742 - 6s - loss: 1.0743 - accuracy: 0.5873 - val_loss: 1.4186 - val_accuracy: 0.4488 - 6s/epoch - 8ms/step\n",
            "Epoch 47/200\n",
            "742/742 - 6s - loss: 1.0716 - accuracy: 0.5894 - val_loss: 1.4348 - val_accuracy: 0.4579 - 6s/epoch - 8ms/step\n",
            "Epoch 48/200\n",
            "742/742 - 6s - loss: 1.0679 - accuracy: 0.5913 - val_loss: 1.4218 - val_accuracy: 0.4778 - 6s/epoch - 8ms/step\n",
            "Epoch 49/200\n",
            "742/742 - 6s - loss: 1.0645 - accuracy: 0.5923 - val_loss: 1.4854 - val_accuracy: 0.4626 - 6s/epoch - 8ms/step\n",
            "Epoch 50/200\n",
            "742/742 - 6s - loss: 1.0617 - accuracy: 0.5917 - val_loss: 1.4832 - val_accuracy: 0.4473 - 6s/epoch - 8ms/step\n",
            "Epoch 51/200\n",
            "742/742 - 6s - loss: 1.0585 - accuracy: 0.5929 - val_loss: 1.5197 - val_accuracy: 0.4476 - 6s/epoch - 8ms/step\n",
            "Epoch 52/200\n",
            "742/742 - 6s - loss: 1.0549 - accuracy: 0.5986 - val_loss: 1.4474 - val_accuracy: 0.4599 - 6s/epoch - 8ms/step\n",
            "Epoch 53/200\n",
            "742/742 - 6s - loss: 1.0516 - accuracy: 0.5983 - val_loss: 1.4554 - val_accuracy: 0.4589 - 6s/epoch - 8ms/step\n",
            "Epoch 54/200\n",
            "742/742 - 6s - loss: 1.0485 - accuracy: 0.5983 - val_loss: 1.4385 - val_accuracy: 0.4725 - 6s/epoch - 8ms/step\n",
            "Epoch 55/200\n",
            "742/742 - 6s - loss: 1.0458 - accuracy: 0.6012 - val_loss: 1.4720 - val_accuracy: 0.4565 - 6s/epoch - 8ms/step\n",
            "Epoch 56/200\n",
            "742/742 - 6s - loss: 1.0431 - accuracy: 0.5994 - val_loss: 1.4566 - val_accuracy: 0.4567 - 6s/epoch - 8ms/step\n",
            "Epoch 57/200\n",
            "742/742 - 6s - loss: 1.0409 - accuracy: 0.6013 - val_loss: 1.4163 - val_accuracy: 0.4633 - 6s/epoch - 8ms/step\n",
            "Epoch 58/200\n",
            "742/742 - 6s - loss: 1.0376 - accuracy: 0.6032 - val_loss: 1.4403 - val_accuracy: 0.4683 - 6s/epoch - 8ms/step\n",
            "Epoch 59/200\n",
            "742/742 - 6s - loss: 1.0362 - accuracy: 0.6021 - val_loss: 1.4578 - val_accuracy: 0.4631 - 6s/epoch - 8ms/step\n",
            "Epoch 60/200\n",
            "742/742 - 6s - loss: 1.0331 - accuracy: 0.6025 - val_loss: 1.4027 - val_accuracy: 0.4673 - 6s/epoch - 8ms/step\n",
            "Epoch 61/200\n",
            "742/742 - 6s - loss: 1.0300 - accuracy: 0.6058 - val_loss: 1.4156 - val_accuracy: 0.4727 - 6s/epoch - 8ms/step\n",
            "Epoch 62/200\n",
            "742/742 - 6s - loss: 1.0278 - accuracy: 0.6066 - val_loss: 1.4439 - val_accuracy: 0.4645 - 6s/epoch - 8ms/step\n",
            "Epoch 63/200\n",
            "742/742 - 6s - loss: 1.0258 - accuracy: 0.6077 - val_loss: 1.4434 - val_accuracy: 0.4594 - 6s/epoch - 8ms/step\n",
            "Epoch 64/200\n",
            "742/742 - 6s - loss: 1.0230 - accuracy: 0.6088 - val_loss: 1.4000 - val_accuracy: 0.4690 - 6s/epoch - 8ms/step\n",
            "Epoch 65/200\n",
            "742/742 - 6s - loss: 1.0218 - accuracy: 0.6055 - val_loss: 1.3785 - val_accuracy: 0.4754 - 6s/epoch - 8ms/step\n",
            "Epoch 66/200\n",
            "742/742 - 6s - loss: 1.0184 - accuracy: 0.6111 - val_loss: 1.4559 - val_accuracy: 0.4636 - 6s/epoch - 8ms/step\n",
            "Epoch 67/200\n",
            "742/742 - 6s - loss: 1.0168 - accuracy: 0.6100 - val_loss: 1.4991 - val_accuracy: 0.4589 - 6s/epoch - 8ms/step\n",
            "Epoch 68/200\n",
            "742/742 - 6s - loss: 1.0142 - accuracy: 0.6095 - val_loss: 1.3851 - val_accuracy: 0.4749 - 6s/epoch - 8ms/step\n",
            "Epoch 69/200\n",
            "742/742 - 6s - loss: 1.0122 - accuracy: 0.6115 - val_loss: 1.3762 - val_accuracy: 0.4781 - 6s/epoch - 8ms/step\n",
            "Epoch 70/200\n",
            "742/742 - 6s - loss: 1.0099 - accuracy: 0.6129 - val_loss: 1.4470 - val_accuracy: 0.4712 - 6s/epoch - 8ms/step\n",
            "Epoch 71/200\n",
            "742/742 - 6s - loss: 1.0085 - accuracy: 0.6130 - val_loss: 1.4366 - val_accuracy: 0.4736 - 6s/epoch - 8ms/step\n",
            "Epoch 72/200\n",
            "742/742 - 6s - loss: 1.0062 - accuracy: 0.6167 - val_loss: 1.3396 - val_accuracy: 0.4874 - 6s/epoch - 8ms/step\n",
            "Epoch 73/200\n",
            "742/742 - 6s - loss: 1.0039 - accuracy: 0.6166 - val_loss: 1.4221 - val_accuracy: 0.4875 - 6s/epoch - 8ms/step\n",
            "Epoch 74/200\n",
            "742/742 - 6s - loss: 1.0021 - accuracy: 0.6161 - val_loss: 1.3451 - val_accuracy: 0.4892 - 6s/epoch - 8ms/step\n",
            "Epoch 75/200\n",
            "742/742 - 6s - loss: 0.9997 - accuracy: 0.6182 - val_loss: 1.4414 - val_accuracy: 0.4781 - 6s/epoch - 8ms/step\n",
            "Epoch 76/200\n",
            "742/742 - 6s - loss: 0.9983 - accuracy: 0.6179 - val_loss: 1.4341 - val_accuracy: 0.4730 - 6s/epoch - 8ms/step\n",
            "Epoch 77/200\n",
            "742/742 - 6s - loss: 0.9962 - accuracy: 0.6186 - val_loss: 1.4089 - val_accuracy: 0.4756 - 6s/epoch - 8ms/step\n",
            "Epoch 78/200\n",
            "742/742 - 6s - loss: 0.9943 - accuracy: 0.6197 - val_loss: 1.4429 - val_accuracy: 0.4683 - 6s/epoch - 8ms/step\n",
            "Epoch 79/200\n",
            "742/742 - 6s - loss: 0.9924 - accuracy: 0.6222 - val_loss: 1.4054 - val_accuracy: 0.4858 - 6s/epoch - 8ms/step\n",
            "Epoch 80/200\n",
            "742/742 - 6s - loss: 0.9901 - accuracy: 0.6207 - val_loss: 1.4335 - val_accuracy: 0.4751 - 6s/epoch - 8ms/step\n",
            "Epoch 81/200\n",
            "742/742 - 6s - loss: 0.9880 - accuracy: 0.6232 - val_loss: 1.3800 - val_accuracy: 0.4757 - 6s/epoch - 8ms/step\n",
            "Epoch 82/200\n",
            "742/742 - 6s - loss: 0.9863 - accuracy: 0.6219 - val_loss: 1.3815 - val_accuracy: 0.4865 - 6s/epoch - 8ms/step\n",
            "Epoch 83/200\n",
            "742/742 - 6s - loss: 0.9852 - accuracy: 0.6249 - val_loss: 1.4373 - val_accuracy: 0.4678 - 6s/epoch - 8ms/step\n",
            "Epoch 84/200\n",
            "742/742 - 6s - loss: 0.9825 - accuracy: 0.6267 - val_loss: 1.4185 - val_accuracy: 0.4761 - 6s/epoch - 8ms/step\n",
            "Epoch 85/200\n",
            "742/742 - 6s - loss: 0.9803 - accuracy: 0.6270 - val_loss: 1.4395 - val_accuracy: 0.4764 - 6s/epoch - 8ms/step\n",
            "Epoch 86/200\n",
            "742/742 - 6s - loss: 0.9792 - accuracy: 0.6256 - val_loss: 1.3465 - val_accuracy: 0.4966 - 6s/epoch - 8ms/step\n",
            "Epoch 87/200\n",
            "742/742 - 6s - loss: 0.9775 - accuracy: 0.6272 - val_loss: 1.3358 - val_accuracy: 0.4985 - 6s/epoch - 8ms/step\n",
            "Epoch 88/200\n",
            "742/742 - 6s - loss: 0.9756 - accuracy: 0.6272 - val_loss: 1.4414 - val_accuracy: 0.4776 - 6s/epoch - 8ms/step\n",
            "Epoch 89/200\n",
            "742/742 - 6s - loss: 0.9744 - accuracy: 0.6291 - val_loss: 1.3692 - val_accuracy: 0.4754 - 6s/epoch - 8ms/step\n",
            "Epoch 90/200\n",
            "742/742 - 6s - loss: 0.9729 - accuracy: 0.6276 - val_loss: 1.3699 - val_accuracy: 0.4816 - 6s/epoch - 8ms/step\n",
            "Epoch 91/200\n",
            "742/742 - 6s - loss: 0.9712 - accuracy: 0.6293 - val_loss: 1.3537 - val_accuracy: 0.4948 - 6s/epoch - 8ms/step\n",
            "Epoch 92/200\n",
            "742/742 - 6s - loss: 0.9694 - accuracy: 0.6311 - val_loss: 1.3167 - val_accuracy: 0.5007 - 6s/epoch - 8ms/step\n",
            "Epoch 93/200\n",
            "742/742 - 6s - loss: 0.9671 - accuracy: 0.6310 - val_loss: 1.3399 - val_accuracy: 0.5040 - 6s/epoch - 8ms/step\n",
            "Epoch 94/200\n",
            "742/742 - 6s - loss: 0.9662 - accuracy: 0.6320 - val_loss: 1.4483 - val_accuracy: 0.4687 - 6s/epoch - 8ms/step\n",
            "Epoch 95/200\n",
            "742/742 - 6s - loss: 0.9640 - accuracy: 0.6320 - val_loss: 1.3811 - val_accuracy: 0.4845 - 6s/epoch - 8ms/step\n",
            "Epoch 96/200\n",
            "742/742 - 6s - loss: 0.9624 - accuracy: 0.6347 - val_loss: 1.3689 - val_accuracy: 0.4882 - 6s/epoch - 8ms/step\n",
            "Epoch 97/200\n",
            "742/742 - 6s - loss: 0.9600 - accuracy: 0.6338 - val_loss: 1.3499 - val_accuracy: 0.4912 - 6s/epoch - 8ms/step\n",
            "Epoch 98/200\n",
            "742/742 - 6s - loss: 0.9589 - accuracy: 0.6354 - val_loss: 1.3445 - val_accuracy: 0.4963 - 6s/epoch - 8ms/step\n",
            "Epoch 99/200\n",
            "742/742 - 6s - loss: 0.9576 - accuracy: 0.6354 - val_loss: 1.3255 - val_accuracy: 0.4970 - 6s/epoch - 8ms/step\n",
            "Epoch 100/200\n",
            "742/742 - 6s - loss: 0.9559 - accuracy: 0.6360 - val_loss: 1.3601 - val_accuracy: 0.4858 - 6s/epoch - 8ms/step\n",
            "Epoch 101/200\n",
            "742/742 - 6s - loss: 0.9542 - accuracy: 0.6371 - val_loss: 1.3888 - val_accuracy: 0.4890 - 6s/epoch - 8ms/step\n",
            "Epoch 102/200\n",
            "742/742 - 6s - loss: 0.9532 - accuracy: 0.6360 - val_loss: 1.3861 - val_accuracy: 0.4960 - 6s/epoch - 8ms/step\n",
            "Epoch 103/200\n",
            "742/742 - 6s - loss: 0.9521 - accuracy: 0.6379 - val_loss: 1.3661 - val_accuracy: 0.4993 - 6s/epoch - 8ms/step\n",
            "Epoch 104/200\n",
            "742/742 - 6s - loss: 0.9497 - accuracy: 0.6387 - val_loss: 1.3292 - val_accuracy: 0.4939 - 6s/epoch - 8ms/step\n",
            "Epoch 105/200\n",
            "742/742 - 6s - loss: 0.9483 - accuracy: 0.6405 - val_loss: 1.3707 - val_accuracy: 0.4938 - 6s/epoch - 8ms/step\n",
            "Epoch 106/200\n",
            "742/742 - 6s - loss: 0.9467 - accuracy: 0.6391 - val_loss: 1.3559 - val_accuracy: 0.4923 - 6s/epoch - 8ms/step\n",
            "Epoch 107/200\n",
            "742/742 - 6s - loss: 0.9457 - accuracy: 0.6419 - val_loss: 1.3417 - val_accuracy: 0.5015 - 6s/epoch - 8ms/step\n",
            "Epoch 108/200\n",
            "742/742 - 6s - loss: 0.9437 - accuracy: 0.6415 - val_loss: 1.3508 - val_accuracy: 0.4924 - 6s/epoch - 8ms/step\n",
            "Epoch 109/200\n",
            "742/742 - 6s - loss: 0.9428 - accuracy: 0.6422 - val_loss: 1.3201 - val_accuracy: 0.5017 - 6s/epoch - 8ms/step\n",
            "Epoch 110/200\n",
            "742/742 - 6s - loss: 0.9413 - accuracy: 0.6448 - val_loss: 1.4148 - val_accuracy: 0.4867 - 6s/epoch - 8ms/step\n",
            "Epoch 111/200\n",
            "742/742 - 6s - loss: 0.9398 - accuracy: 0.6437 - val_loss: 1.3939 - val_accuracy: 0.4919 - 6s/epoch - 8ms/step\n",
            "Epoch 112/200\n",
            "742/742 - 6s - loss: 0.9377 - accuracy: 0.6459 - val_loss: 1.3618 - val_accuracy: 0.4978 - 6s/epoch - 8ms/step\n",
            "Epoch 113/200\n",
            "742/742 - 6s - loss: 0.9367 - accuracy: 0.6431 - val_loss: 1.4195 - val_accuracy: 0.4768 - 6s/epoch - 8ms/step\n",
            "Epoch 114/200\n",
            "742/742 - 6s - loss: 0.9348 - accuracy: 0.6457 - val_loss: 1.3635 - val_accuracy: 0.4948 - 6s/epoch - 8ms/step\n",
            "Epoch 115/200\n",
            "742/742 - 6s - loss: 0.9339 - accuracy: 0.6448 - val_loss: 1.3626 - val_accuracy: 0.5040 - 6s/epoch - 8ms/step\n",
            "Epoch 116/200\n",
            "742/742 - 6s - loss: 0.9328 - accuracy: 0.6462 - val_loss: 1.3286 - val_accuracy: 0.5049 - 6s/epoch - 8ms/step\n",
            "Epoch 117/200\n",
            "742/742 - 6s - loss: 0.9315 - accuracy: 0.6485 - val_loss: 1.3314 - val_accuracy: 0.4951 - 6s/epoch - 8ms/step\n",
            "Epoch 118/200\n",
            "742/742 - 6s - loss: 0.9299 - accuracy: 0.6488 - val_loss: 1.3022 - val_accuracy: 0.4944 - 6s/epoch - 8ms/step\n",
            "Epoch 119/200\n",
            "742/742 - 6s - loss: 0.9284 - accuracy: 0.6471 - val_loss: 1.3151 - val_accuracy: 0.5077 - 6s/epoch - 8ms/step\n",
            "Epoch 120/200\n",
            "742/742 - 6s - loss: 0.9264 - accuracy: 0.6502 - val_loss: 1.3326 - val_accuracy: 0.5030 - 6s/epoch - 8ms/step\n",
            "Epoch 121/200\n",
            "742/742 - 6s - loss: 0.9254 - accuracy: 0.6490 - val_loss: 1.3873 - val_accuracy: 0.4939 - 6s/epoch - 8ms/step\n",
            "Epoch 122/200\n",
            "742/742 - 6s - loss: 0.9238 - accuracy: 0.6498 - val_loss: 1.3136 - val_accuracy: 0.5054 - 6s/epoch - 8ms/step\n",
            "Epoch 123/200\n",
            "742/742 - 6s - loss: 0.9226 - accuracy: 0.6500 - val_loss: 1.3819 - val_accuracy: 0.4884 - 6s/epoch - 8ms/step\n",
            "Epoch 124/200\n",
            "742/742 - 6s - loss: 0.9223 - accuracy: 0.6502 - val_loss: 1.3577 - val_accuracy: 0.4938 - 6s/epoch - 8ms/step\n",
            "Epoch 125/200\n",
            "742/742 - 6s - loss: 0.9203 - accuracy: 0.6499 - val_loss: 1.3575 - val_accuracy: 0.5013 - 6s/epoch - 8ms/step\n",
            "Epoch 126/200\n",
            "742/742 - 6s - loss: 0.9183 - accuracy: 0.6518 - val_loss: 1.3908 - val_accuracy: 0.4826 - 6s/epoch - 8ms/step\n",
            "Epoch 127/200\n",
            "742/742 - 6s - loss: 0.9169 - accuracy: 0.6528 - val_loss: 1.3605 - val_accuracy: 0.5056 - 6s/epoch - 8ms/step\n",
            "Epoch 128/200\n",
            "742/742 - 6s - loss: 0.9160 - accuracy: 0.6510 - val_loss: 1.3900 - val_accuracy: 0.4882 - 6s/epoch - 8ms/step\n",
            "Epoch 129/200\n",
            "742/742 - 6s - loss: 0.9147 - accuracy: 0.6536 - val_loss: 1.3175 - val_accuracy: 0.5094 - 6s/epoch - 8ms/step\n",
            "Epoch 130/200\n",
            "742/742 - 6s - loss: 0.9136 - accuracy: 0.6537 - val_loss: 1.2776 - val_accuracy: 0.5182 - 6s/epoch - 8ms/step\n",
            "Epoch 131/200\n",
            "742/742 - 6s - loss: 0.9127 - accuracy: 0.6533 - val_loss: 1.3553 - val_accuracy: 0.5035 - 6s/epoch - 8ms/step\n",
            "Epoch 132/200\n",
            "742/742 - 6s - loss: 0.9109 - accuracy: 0.6549 - val_loss: 1.3543 - val_accuracy: 0.5029 - 6s/epoch - 8ms/step\n",
            "Epoch 133/200\n",
            "742/742 - 6s - loss: 0.9095 - accuracy: 0.6537 - val_loss: 1.3291 - val_accuracy: 0.4946 - 6s/epoch - 8ms/step\n",
            "Epoch 134/200\n",
            "742/742 - 6s - loss: 0.9086 - accuracy: 0.6544 - val_loss: 1.3405 - val_accuracy: 0.4978 - 6s/epoch - 8ms/step\n",
            "Epoch 135/200\n",
            "742/742 - 6s - loss: 0.9063 - accuracy: 0.6559 - val_loss: 1.3276 - val_accuracy: 0.5047 - 6s/epoch - 8ms/step\n",
            "Epoch 136/200\n",
            "742/742 - 6s - loss: 0.9056 - accuracy: 0.6561 - val_loss: 1.3187 - val_accuracy: 0.5150 - 6s/epoch - 8ms/step\n",
            "Epoch 137/200\n",
            "742/742 - 6s - loss: 0.9042 - accuracy: 0.6569 - val_loss: 1.3340 - val_accuracy: 0.4993 - 6s/epoch - 8ms/step\n",
            "Epoch 138/200\n",
            "742/742 - 6s - loss: 0.9037 - accuracy: 0.6562 - val_loss: 1.3675 - val_accuracy: 0.5020 - 6s/epoch - 8ms/step\n",
            "Epoch 139/200\n",
            "742/742 - 6s - loss: 0.9019 - accuracy: 0.6574 - val_loss: 1.3482 - val_accuracy: 0.5000 - 6s/epoch - 8ms/step\n",
            "Epoch 140/200\n",
            "742/742 - 6s - loss: 0.9002 - accuracy: 0.6597 - val_loss: 1.3757 - val_accuracy: 0.4963 - 6s/epoch - 8ms/step\n",
            "Epoch 141/200\n",
            "742/742 - 6s - loss: 0.8984 - accuracy: 0.6599 - val_loss: 1.2446 - val_accuracy: 0.5190 - 6s/epoch - 8ms/step\n",
            "Epoch 142/200\n",
            "742/742 - 6s - loss: 0.8982 - accuracy: 0.6597 - val_loss: 1.4193 - val_accuracy: 0.4850 - 6s/epoch - 8ms/step\n",
            "Epoch 143/200\n",
            "742/742 - 6s - loss: 0.8968 - accuracy: 0.6604 - val_loss: 1.3597 - val_accuracy: 0.4990 - 6s/epoch - 8ms/step\n",
            "Epoch 144/200\n",
            "742/742 - 6s - loss: 0.8956 - accuracy: 0.6600 - val_loss: 1.3343 - val_accuracy: 0.5040 - 6s/epoch - 8ms/step\n",
            "Epoch 145/200\n",
            "742/742 - 6s - loss: 0.8941 - accuracy: 0.6614 - val_loss: 1.3054 - val_accuracy: 0.5057 - 6s/epoch - 8ms/step\n",
            "Epoch 146/200\n",
            "742/742 - 6s - loss: 0.8923 - accuracy: 0.6618 - val_loss: 1.2905 - val_accuracy: 0.5142 - 6s/epoch - 8ms/step\n",
            "Epoch 147/200\n",
            "742/742 - 6s - loss: 0.8910 - accuracy: 0.6619 - val_loss: 1.3035 - val_accuracy: 0.5061 - 6s/epoch - 8ms/step\n",
            "Epoch 148/200\n",
            "742/742 - 6s - loss: 0.8913 - accuracy: 0.6599 - val_loss: 1.3080 - val_accuracy: 0.5170 - 6s/epoch - 9ms/step\n",
            "Epoch 149/200\n",
            "742/742 - 6s - loss: 0.8895 - accuracy: 0.6625 - val_loss: 1.3826 - val_accuracy: 0.4971 - 6s/epoch - 8ms/step\n",
            "Epoch 150/200\n",
            "742/742 - 6s - loss: 0.8879 - accuracy: 0.6636 - val_loss: 1.3589 - val_accuracy: 0.4916 - 6s/epoch - 8ms/step\n",
            "Epoch 151/200\n",
            "742/742 - 6s - loss: 0.8868 - accuracy: 0.6642 - val_loss: 1.3402 - val_accuracy: 0.5064 - 6s/epoch - 8ms/step\n",
            "Epoch 152/200\n",
            "742/742 - 6s - loss: 0.8852 - accuracy: 0.6638 - val_loss: 1.3130 - val_accuracy: 0.5057 - 6s/epoch - 8ms/step\n",
            "Epoch 153/200\n",
            "742/742 - 6s - loss: 0.8838 - accuracy: 0.6660 - val_loss: 1.3496 - val_accuracy: 0.4939 - 6s/epoch - 8ms/step\n",
            "Epoch 154/200\n",
            "742/742 - 6s - loss: 0.8828 - accuracy: 0.6649 - val_loss: 1.3095 - val_accuracy: 0.5174 - 6s/epoch - 8ms/step\n",
            "Epoch 155/200\n",
            "742/742 - 6s - loss: 0.8817 - accuracy: 0.6675 - val_loss: 1.3723 - val_accuracy: 0.4955 - 6s/epoch - 8ms/step\n",
            "Epoch 156/200\n",
            "742/742 - 6s - loss: 0.8808 - accuracy: 0.6668 - val_loss: 1.2912 - val_accuracy: 0.5142 - 6s/epoch - 8ms/step\n",
            "Epoch 157/200\n",
            "742/742 - 6s - loss: 0.8800 - accuracy: 0.6655 - val_loss: 1.2921 - val_accuracy: 0.5140 - 6s/epoch - 8ms/step\n",
            "Epoch 158/200\n",
            "742/742 - 6s - loss: 0.8778 - accuracy: 0.6677 - val_loss: 1.3033 - val_accuracy: 0.5084 - 6s/epoch - 8ms/step\n",
            "Epoch 159/200\n",
            "742/742 - 6s - loss: 0.8775 - accuracy: 0.6676 - val_loss: 1.2932 - val_accuracy: 0.5145 - 6s/epoch - 8ms/step\n",
            "Epoch 160/200\n",
            "742/742 - 6s - loss: 0.8758 - accuracy: 0.6693 - val_loss: 1.3572 - val_accuracy: 0.4948 - 6s/epoch - 8ms/step\n",
            "Epoch 161/200\n",
            "742/742 - 6s - loss: 0.8751 - accuracy: 0.6700 - val_loss: 1.2878 - val_accuracy: 0.5125 - 6s/epoch - 8ms/step\n",
            "Epoch 162/200\n",
            "742/742 - 6s - loss: 0.8736 - accuracy: 0.6708 - val_loss: 1.3024 - val_accuracy: 0.5076 - 6s/epoch - 8ms/step\n",
            "Epoch 163/200\n",
            "742/742 - 6s - loss: 0.8721 - accuracy: 0.6703 - val_loss: 1.3881 - val_accuracy: 0.4906 - 6s/epoch - 8ms/step\n",
            "Epoch 164/200\n",
            "742/742 - 6s - loss: 0.8709 - accuracy: 0.6692 - val_loss: 1.3420 - val_accuracy: 0.5195 - 6s/epoch - 8ms/step\n",
            "Epoch 165/200\n",
            "742/742 - 6s - loss: 0.8699 - accuracy: 0.6708 - val_loss: 1.3524 - val_accuracy: 0.5017 - 6s/epoch - 8ms/step\n",
            "Epoch 166/200\n",
            "742/742 - 6s - loss: 0.8687 - accuracy: 0.6701 - val_loss: 1.2916 - val_accuracy: 0.5195 - 6s/epoch - 8ms/step\n",
            "Epoch 167/200\n",
            "742/742 - 6s - loss: 0.8677 - accuracy: 0.6700 - val_loss: 1.2968 - val_accuracy: 0.5079 - 6s/epoch - 8ms/step\n",
            "Epoch 168/200\n",
            "742/742 - 6s - loss: 0.8665 - accuracy: 0.6708 - val_loss: 1.3304 - val_accuracy: 0.4966 - 6s/epoch - 8ms/step\n",
            "Epoch 169/200\n",
            "742/742 - 6s - loss: 0.8646 - accuracy: 0.6721 - val_loss: 1.3123 - val_accuracy: 0.5108 - 6s/epoch - 8ms/step\n",
            "Epoch 170/200\n",
            "742/742 - 6s - loss: 0.8645 - accuracy: 0.6735 - val_loss: 1.3866 - val_accuracy: 0.4894 - 6s/epoch - 8ms/step\n",
            "Epoch 171/200\n",
            "742/742 - 6s - loss: 0.8634 - accuracy: 0.6728 - val_loss: 1.3709 - val_accuracy: 0.4993 - 6s/epoch - 8ms/step\n",
            "Epoch 172/200\n",
            "742/742 - 6s - loss: 0.8618 - accuracy: 0.6737 - val_loss: 1.3696 - val_accuracy: 0.4914 - 6s/epoch - 8ms/step\n",
            "Epoch 173/200\n",
            "742/742 - 6s - loss: 0.8613 - accuracy: 0.6745 - val_loss: 1.2932 - val_accuracy: 0.5209 - 6s/epoch - 8ms/step\n",
            "Epoch 174/200\n",
            "742/742 - 6s - loss: 0.8598 - accuracy: 0.6743 - val_loss: 1.3512 - val_accuracy: 0.5019 - 6s/epoch - 8ms/step\n",
            "Epoch 175/200\n",
            "742/742 - 6s - loss: 0.8593 - accuracy: 0.6762 - val_loss: 1.3084 - val_accuracy: 0.5165 - 6s/epoch - 8ms/step\n",
            "Epoch 176/200\n",
            "742/742 - 6s - loss: 0.8565 - accuracy: 0.6769 - val_loss: 1.3137 - val_accuracy: 0.5133 - 6s/epoch - 8ms/step\n",
            "Epoch 177/200\n",
            "742/742 - 6s - loss: 0.8565 - accuracy: 0.6761 - val_loss: 1.2728 - val_accuracy: 0.5246 - 6s/epoch - 8ms/step\n",
            "Epoch 178/200\n",
            "742/742 - 6s - loss: 0.8547 - accuracy: 0.6737 - val_loss: 1.2645 - val_accuracy: 0.5264 - 6s/epoch - 8ms/step\n",
            "Epoch 179/200\n",
            "742/742 - 6s - loss: 0.8543 - accuracy: 0.6772 - val_loss: 1.3089 - val_accuracy: 0.5263 - 6s/epoch - 8ms/step\n",
            "Epoch 180/200\n",
            "742/742 - 6s - loss: 0.8538 - accuracy: 0.6767 - val_loss: 1.3285 - val_accuracy: 0.5054 - 6s/epoch - 8ms/step\n",
            "Epoch 181/200\n",
            "742/742 - 6s - loss: 0.8512 - accuracy: 0.6775 - val_loss: 1.3619 - val_accuracy: 0.5027 - 6s/epoch - 8ms/step\n",
            "Epoch 182/200\n",
            "742/742 - 6s - loss: 0.8513 - accuracy: 0.6782 - val_loss: 1.2416 - val_accuracy: 0.5406 - 6s/epoch - 8ms/step\n",
            "Epoch 183/200\n",
            "742/742 - 6s - loss: 0.8497 - accuracy: 0.6781 - val_loss: 1.3351 - val_accuracy: 0.5049 - 6s/epoch - 8ms/step\n",
            "Epoch 184/200\n",
            "742/742 - 6s - loss: 0.8485 - accuracy: 0.6801 - val_loss: 1.2868 - val_accuracy: 0.5236 - 6s/epoch - 8ms/step\n",
            "Epoch 185/200\n",
            "742/742 - 6s - loss: 0.8482 - accuracy: 0.6787 - val_loss: 1.3402 - val_accuracy: 0.5057 - 6s/epoch - 8ms/step\n",
            "Epoch 186/200\n",
            "742/742 - 6s - loss: 0.8461 - accuracy: 0.6801 - val_loss: 1.2761 - val_accuracy: 0.5172 - 6s/epoch - 8ms/step\n",
            "Epoch 187/200\n",
            "742/742 - 6s - loss: 0.8456 - accuracy: 0.6790 - val_loss: 1.3059 - val_accuracy: 0.5170 - 6s/epoch - 8ms/step\n",
            "Epoch 188/200\n",
            "742/742 - 6s - loss: 0.8447 - accuracy: 0.6806 - val_loss: 1.2974 - val_accuracy: 0.5271 - 6s/epoch - 8ms/step\n",
            "Epoch 189/200\n",
            "742/742 - 6s - loss: 0.8434 - accuracy: 0.6820 - val_loss: 1.3139 - val_accuracy: 0.5135 - 6s/epoch - 8ms/step\n",
            "Epoch 190/200\n",
            "742/742 - 6s - loss: 0.8432 - accuracy: 0.6803 - val_loss: 1.2970 - val_accuracy: 0.5249 - 6s/epoch - 8ms/step\n",
            "Epoch 191/200\n",
            "742/742 - 6s - loss: 0.8421 - accuracy: 0.6812 - val_loss: 1.2701 - val_accuracy: 0.5258 - 6s/epoch - 8ms/step\n",
            "Epoch 192/200\n",
            "742/742 - 6s - loss: 0.8404 - accuracy: 0.6815 - val_loss: 1.2155 - val_accuracy: 0.5455 - 6s/epoch - 8ms/step\n",
            "Epoch 193/200\n",
            "742/742 - 6s - loss: 0.8388 - accuracy: 0.6816 - val_loss: 1.2639 - val_accuracy: 0.5335 - 6s/epoch - 8ms/step\n",
            "Epoch 194/200\n",
            "742/742 - 6s - loss: 0.8390 - accuracy: 0.6818 - val_loss: 1.2768 - val_accuracy: 0.5167 - 6s/epoch - 8ms/step\n",
            "Epoch 195/200\n",
            "742/742 - 6s - loss: 0.8366 - accuracy: 0.6844 - val_loss: 1.2467 - val_accuracy: 0.5200 - 6s/epoch - 8ms/step\n",
            "Epoch 196/200\n",
            "742/742 - 6s - loss: 0.8362 - accuracy: 0.6825 - val_loss: 1.3685 - val_accuracy: 0.4995 - 6s/epoch - 8ms/step\n",
            "Epoch 197/200\n",
            "742/742 - 6s - loss: 0.8351 - accuracy: 0.6839 - val_loss: 1.2426 - val_accuracy: 0.5286 - 6s/epoch - 8ms/step\n",
            "Epoch 198/200\n",
            "742/742 - 6s - loss: 0.8345 - accuracy: 0.6851 - val_loss: 1.2620 - val_accuracy: 0.5270 - 6s/epoch - 8ms/step\n",
            "Epoch 199/200\n",
            "742/742 - 6s - loss: 0.8336 - accuracy: 0.6842 - val_loss: 1.2920 - val_accuracy: 0.5254 - 6s/epoch - 8ms/step\n",
            "Epoch 200/200\n",
            "742/742 - 6s - loss: 0.8323 - accuracy: 0.6865 - val_loss: 1.2924 - val_accuracy: 0.5155 - 6s/epoch - 8ms/step\n"
          ]
        }
      ]
    },
    {
      "cell_type": "code",
      "source": [
        "plot_metric(history2 , 'loss')"
      ],
      "metadata": {
        "colab": {
          "base_uri": "https://localhost:8080/",
          "height": 295
        },
        "id": "-S8TJHcyeOCp",
        "outputId": "753829e9-7e80-4970-fc70-78193584ba42"
      },
      "execution_count": null,
      "outputs": [
        {
          "output_type": "display_data",
          "data": {
            "image/png": "[encoded data removed]",
            "text/plain": [
              "<Figure size 432x288 with 1 Axes>"
            ]
          },
          "metadata": {
            "needs_background": "light"
          }
        }
      ]
    },
    {
      "cell_type": "code",
      "source": [
        "plot_metric(history2 , 'accuracy')"
      ],
      "metadata": {
        "colab": {
          "base_uri": "https://localhost:8080/",
          "height": 295
        },
        "id": "MzZyMxG7eTJ_",
        "outputId": "c0debc01-3a66-406d-d948-f6921e27cbb2"
      },
      "execution_count": null,
      "outputs": [
        {
          "output_type": "display_data",
          "data": {
            "image/png": "[encoded data removed]",
            "text/plain": [
              "<Figure size 432x288 with 1 Axes>"
            ]
          },
          "metadata": {
            "needs_background": "light"
          }
        }
      ]
    },
    {
      "cell_type": "code",
      "source": [],
      "metadata": {
        "id": "z7sID1Z9eV71"
      },
      "execution_count": null,
      "outputs": []
    }
  ],
  "metadata": {
    "colab": {
      "provenance": []
    },
    "kernelspec": {
      "display_name": "Python 3",
      "name": "python3"
    },
    "language_info": {
      "name": "python"
    }
  },
  "nbformat": 4,
  "nbformat_minor": 0
}